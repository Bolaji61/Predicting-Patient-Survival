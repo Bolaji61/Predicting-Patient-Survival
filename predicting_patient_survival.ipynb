{
 "cells": [
  {
   "cell_type": "markdown",
   "metadata": {
    "colab_type": "text",
    "id": "1Xo7LjMtze3a"
   },
   "source": [
    "# Predicting Patients Survival\n",
    "A hospital has been trying to improve its care conditions by looking at historic survival of the patients. They tried looking at their data but could not identify the main factors leading to high survivals.\n",
    "\n",
    "The goal here is to develop a machine learning model that will predict the chances of survival of a patient after 1 year of treatment."
   ]
  },
  {
   "cell_type": "code",
   "execution_count": 1,
   "metadata": {
    "colab": {
     "base_uri": "https://localhost:8080/",
     "height": 72
    },
    "colab_type": "code",
    "id": "OzNNuquv33bI",
    "outputId": "619a1875-8aef-494b-887e-aec4b0027777"
   },
   "outputs": [],
   "source": [
    "import pandas as pd\n",
    "import numpy as np\n",
    "import seaborn as sns\n",
    "import sklearn\n",
    "import matplotlib.pyplot as plt\n",
    "import warnings\n",
    "warnings.simplefilter(action='ignore', category=FutureWarning)"
   ]
  },
  {
   "cell_type": "code",
   "execution_count": 2,
   "metadata": {
    "colab": {},
    "colab_type": "code",
    "id": "-pC7wyZirrNK"
   },
   "outputs": [],
   "source": [
    "import pandas as pd\n",
    "pharma_data = pd.read_csv('https://raw.githubusercontent.com/dphi-official/Datasets/master/pharma_data/Training_set_advc.csv')"
   ]
  },
  {
   "cell_type": "code",
   "execution_count": 3,
   "metadata": {
    "colab": {
     "base_uri": "https://localhost:8080/",
     "height": 226
    },
    "colab_type": "code",
    "id": "FuVnoBiWsoX6",
    "outputId": "93ccc2cf-b379-4731-a6cd-919af9521972"
   },
   "outputs": [
    {
     "data": {
      "text/html": [
       "<div>\n",
       "<style scoped>\n",
       "    .dataframe tbody tr th:only-of-type {\n",
       "        vertical-align: middle;\n",
       "    }\n",
       "\n",
       "    .dataframe tbody tr th {\n",
       "        vertical-align: top;\n",
       "    }\n",
       "\n",
       "    .dataframe thead th {\n",
       "        text-align: right;\n",
       "    }\n",
       "</style>\n",
       "<table border=\"1\" class=\"dataframe\">\n",
       "  <thead>\n",
       "    <tr style=\"text-align: right;\">\n",
       "      <th></th>\n",
       "      <th>ID_Patient_Care_Situation</th>\n",
       "      <th>Diagnosed_Condition</th>\n",
       "      <th>Patient_ID</th>\n",
       "      <th>Treated_with_drugs</th>\n",
       "      <th>Patient_Age</th>\n",
       "      <th>Patient_Body_Mass_Index</th>\n",
       "      <th>Patient_Smoker</th>\n",
       "      <th>Patient_Rural_Urban</th>\n",
       "      <th>Patient_mental_condition</th>\n",
       "      <th>A</th>\n",
       "      <th>B</th>\n",
       "      <th>C</th>\n",
       "      <th>D</th>\n",
       "      <th>E</th>\n",
       "      <th>F</th>\n",
       "      <th>Z</th>\n",
       "      <th>Number_of_prev_cond</th>\n",
       "      <th>Survived_1_year</th>\n",
       "    </tr>\n",
       "  </thead>\n",
       "  <tbody>\n",
       "    <tr>\n",
       "      <th>0</th>\n",
       "      <td>16201</td>\n",
       "      <td>47</td>\n",
       "      <td>8433</td>\n",
       "      <td>DX2</td>\n",
       "      <td>60</td>\n",
       "      <td>21.655523</td>\n",
       "      <td>NO</td>\n",
       "      <td>URBAN</td>\n",
       "      <td>Stable</td>\n",
       "      <td>1.0</td>\n",
       "      <td>0.0</td>\n",
       "      <td>0.0</td>\n",
       "      <td>0.0</td>\n",
       "      <td>1.0</td>\n",
       "      <td>0.0</td>\n",
       "      <td>0.0</td>\n",
       "      <td>2.0</td>\n",
       "      <td>1</td>\n",
       "    </tr>\n",
       "    <tr>\n",
       "      <th>1</th>\n",
       "      <td>9421</td>\n",
       "      <td>3</td>\n",
       "      <td>2972</td>\n",
       "      <td>DX6</td>\n",
       "      <td>2</td>\n",
       "      <td>28.852743</td>\n",
       "      <td>NO</td>\n",
       "      <td>RURAL</td>\n",
       "      <td>Stable</td>\n",
       "      <td>1.0</td>\n",
       "      <td>0.0</td>\n",
       "      <td>1.0</td>\n",
       "      <td>0.0</td>\n",
       "      <td>1.0</td>\n",
       "      <td>0.0</td>\n",
       "      <td>0.0</td>\n",
       "      <td>3.0</td>\n",
       "      <td>0</td>\n",
       "    </tr>\n",
       "    <tr>\n",
       "      <th>2</th>\n",
       "      <td>16205</td>\n",
       "      <td>7</td>\n",
       "      <td>8608</td>\n",
       "      <td>Dx6</td>\n",
       "      <td>20</td>\n",
       "      <td>26.179725</td>\n",
       "      <td>NO</td>\n",
       "      <td>RURAL</td>\n",
       "      <td>Stable</td>\n",
       "      <td>1.0</td>\n",
       "      <td>0.0</td>\n",
       "      <td>0.0</td>\n",
       "      <td>0.0</td>\n",
       "      <td>1.0</td>\n",
       "      <td>0.0</td>\n",
       "      <td>0.0</td>\n",
       "      <td>2.0</td>\n",
       "      <td>1</td>\n",
       "    </tr>\n",
       "    <tr>\n",
       "      <th>3</th>\n",
       "      <td>5582</td>\n",
       "      <td>31</td>\n",
       "      <td>10074</td>\n",
       "      <td>dx6</td>\n",
       "      <td>8</td>\n",
       "      <td>22.638945</td>\n",
       "      <td>NO</td>\n",
       "      <td>RURAL</td>\n",
       "      <td>Stable</td>\n",
       "      <td>1.0</td>\n",
       "      <td>0.0</td>\n",
       "      <td>0.0</td>\n",
       "      <td>0.0</td>\n",
       "      <td>1.0</td>\n",
       "      <td>0.0</td>\n",
       "      <td>0.0</td>\n",
       "      <td>2.0</td>\n",
       "      <td>0</td>\n",
       "    </tr>\n",
       "    <tr>\n",
       "      <th>4</th>\n",
       "      <td>20880</td>\n",
       "      <td>43</td>\n",
       "      <td>7462</td>\n",
       "      <td>dx1</td>\n",
       "      <td>53</td>\n",
       "      <td>21.326131</td>\n",
       "      <td>NO</td>\n",
       "      <td>RURAL</td>\n",
       "      <td>Stable</td>\n",
       "      <td>1.0</td>\n",
       "      <td>0.0</td>\n",
       "      <td>0.0</td>\n",
       "      <td>0.0</td>\n",
       "      <td>0.0</td>\n",
       "      <td>0.0</td>\n",
       "      <td>0.0</td>\n",
       "      <td>1.0</td>\n",
       "      <td>1</td>\n",
       "    </tr>\n",
       "  </tbody>\n",
       "</table>\n",
       "</div>"
      ],
      "text/plain": [
       "   ID_Patient_Care_Situation  Diagnosed_Condition  Patient_ID  \\\n",
       "0                      16201                   47        8433   \n",
       "1                       9421                    3        2972   \n",
       "2                      16205                    7        8608   \n",
       "3                       5582                   31       10074   \n",
       "4                      20880                   43        7462   \n",
       "\n",
       "  Treated_with_drugs  Patient_Age  Patient_Body_Mass_Index Patient_Smoker  \\\n",
       "0                DX2           60                21.655523             NO   \n",
       "1                DX6            2                28.852743             NO   \n",
       "2                Dx6           20                26.179725             NO   \n",
       "3               dx6             8                22.638945             NO   \n",
       "4                dx1           53                21.326131             NO   \n",
       "\n",
       "  Patient_Rural_Urban Patient_mental_condition    A    B    C    D    E    F  \\\n",
       "0               URBAN                   Stable  1.0  0.0  0.0  0.0  1.0  0.0   \n",
       "1               RURAL                   Stable  1.0  0.0  1.0  0.0  1.0  0.0   \n",
       "2               RURAL                   Stable  1.0  0.0  0.0  0.0  1.0  0.0   \n",
       "3               RURAL                   Stable  1.0  0.0  0.0  0.0  1.0  0.0   \n",
       "4               RURAL                   Stable  1.0  0.0  0.0  0.0  0.0  0.0   \n",
       "\n",
       "     Z  Number_of_prev_cond  Survived_1_year  \n",
       "0  0.0                  2.0                1  \n",
       "1  0.0                  3.0                0  \n",
       "2  0.0                  2.0                1  \n",
       "3  0.0                  2.0                0  \n",
       "4  0.0                  1.0                1  "
      ]
     },
     "execution_count": 3,
     "metadata": {},
     "output_type": "execute_result"
    }
   ],
   "source": [
    "pharma_data.head()"
   ]
  },
  {
   "cell_type": "code",
   "execution_count": 4,
   "metadata": {
    "colab": {
     "base_uri": "https://localhost:8080/",
     "height": 34
    },
    "colab_type": "code",
    "id": "ZizkTi3Astmb",
    "outputId": "d2604134-a93e-4468-fb40-49a3e927a09d"
   },
   "outputs": [
    {
     "data": {
      "text/plain": [
       "(25079, 18)"
      ]
     },
     "execution_count": 4,
     "metadata": {},
     "output_type": "execute_result"
    }
   ],
   "source": [
    "pharma_data.shape"
   ]
  },
  {
   "cell_type": "code",
   "execution_count": 5,
   "metadata": {
    "colab": {
     "base_uri": "https://localhost:8080/",
     "height": 347
    },
    "colab_type": "code",
    "id": "33bX3Xaus8O6",
    "outputId": "f4894f73-4b22-4e34-9492-223a860ea142"
   },
   "outputs": [
    {
     "data": {
      "text/plain": [
       "ID_Patient_Care_Situation    23097\n",
       "Diagnosed_Condition             53\n",
       "Patient_ID                   10599\n",
       "Treated_with_drugs             182\n",
       "Patient_Age                     74\n",
       "Patient_Body_Mass_Index      10599\n",
       "Patient_Smoker                  10\n",
       "Patient_Rural_Urban              2\n",
       "Patient_mental_condition         1\n",
       "A                                2\n",
       "B                                2\n",
       "C                                2\n",
       "D                                2\n",
       "E                                2\n",
       "F                                2\n",
       "Z                                2\n",
       "Number_of_prev_cond              5\n",
       "Survived_1_year                  2\n",
       "dtype: int64"
      ]
     },
     "execution_count": 5,
     "metadata": {},
     "output_type": "execute_result"
    }
   ],
   "source": [
    "pharma_data.nunique()"
   ]
  },
  {
   "cell_type": "code",
   "execution_count": 6,
   "metadata": {
    "colab": {
     "base_uri": "https://localhost:8080/",
     "height": 280
    },
    "colab_type": "code",
    "id": "4tlkuH9drmfR",
    "outputId": "555d285e-b2af-417b-bde9-d61750bf5f7d"
   },
   "outputs": [
    {
     "data": {
      "image/png": "[encoded data removed]",
      "text/plain": [
       "<Figure size 432x288 with 1 Axes>"
      ]
     },
     "metadata": {
      "needs_background": "light"
     },
     "output_type": "display_data"
    }
   ],
   "source": [
    "sns.countplot(pharma_data['Survived_1_year'])\n",
    "plt.show()"
   ]
  },
  {
   "cell_type": "code",
   "execution_count": 7,
   "metadata": {
    "colab": {
     "base_uri": "https://localhost:8080/",
     "height": 69
    },
    "colab_type": "code",
    "id": "u43SmK_Nr2HU",
    "outputId": "3fc6880d-e15a-4f26-9b4a-abb865f34a47"
   },
   "outputs": [
    {
     "data": {
      "text/plain": [
       "1    15908\n",
       "0     9171\n",
       "Name: Survived_1_year, dtype: int64"
      ]
     },
     "execution_count": 7,
     "metadata": {},
     "output_type": "execute_result"
    }
   ],
   "source": [
    "pharma_data['Survived_1_year'].value_counts()"
   ]
  },
  {
   "cell_type": "code",
   "execution_count": 8,
   "metadata": {
    "colab": {
     "base_uri": "https://localhost:8080/",
     "height": 280
    },
    "colab_type": "code",
    "id": "y1aL-u_Sn1FZ",
    "outputId": "45011e41-ae7d-4950-836a-8e75bbccfc70"
   },
   "outputs": [
    {
     "data": {
      "image/png": "[encoded data removed]",
      "text/plain": [
       "<Figure size 432x288 with 1 Axes>"
      ]
     },
     "metadata": {
      "needs_background": "light"
     },
     "output_type": "display_data"
    }
   ],
   "source": [
    "sns.distplot(pharma_data['Patient_Age'])\n",
    "plt.show()"
   ]
  },
  {
   "cell_type": "code",
   "execution_count": 9,
   "metadata": {
    "colab": {
     "base_uri": "https://localhost:8080/",
     "height": 280
    },
    "colab_type": "code",
    "id": "DzLIbJJem9ZS",
    "outputId": "c7cc829d-f1b5-4ef5-a4b9-49ccd204c0b6"
   },
   "outputs": [
    {
     "data": {
      "image/png": "[encoded data removed]",
      "text/plain": [
       "<Figure size 432x288 with 1 Axes>"
      ]
     },
     "metadata": {
      "needs_background": "light"
     },
     "output_type": "display_data"
    }
   ],
   "source": [
    "sns.distplot(pharma_data['Patient_Body_Mass_Index'])\n",
    "plt.show()"
   ]
  },
  {
   "cell_type": "code",
   "execution_count": 10,
   "metadata": {
    "colab": {
     "base_uri": "https://localhost:8080/",
     "height": 52
    },
    "colab_type": "code",
    "id": "wUCqdW1S22oj",
    "outputId": "c785706f-636d-4355-f228-984673f7d989"
   },
   "outputs": [
    {
     "data": {
      "text/plain": [
       "array(['NO', 'NO ', 'YES', 'YES ', 'YESS ', 'YESS', 'Cannot say ',\n",
       "       'Cannot say', 'CANNOT SAY ', 'CANNOT SAY'], dtype=object)"
      ]
     },
     "execution_count": 10,
     "metadata": {},
     "output_type": "execute_result"
    }
   ],
   "source": [
    "pharma_data.Patient_Smoker.unique()"
   ]
  },
  {
   "cell_type": "code",
   "execution_count": 11,
   "metadata": {
    "colab": {},
    "colab_type": "code",
    "id": "vcF38YmV65OU"
   },
   "outputs": [],
   "source": [
    "patient_smoker_replace = {\"NO \":\"NO\", \"YES \":\"YES\", \"YESS \":\"YES\", \"YESS\":\"YES\", \"Cannot say \":\"Cannot say\", \"CANNOT SAY \":\"Cannot say\", \"CANNOT SAY\":\"Cannot say\"}\n",
    "pharma_data = pharma_data.replace({\"Patient_Smoker\": patient_smoker_replace})"
   ]
  },
  {
   "cell_type": "code",
   "execution_count": 12,
   "metadata": {
    "colab": {
     "base_uri": "https://localhost:8080/",
     "height": 34
    },
    "colab_type": "code",
    "id": "ILgu6OkR_9AM",
    "outputId": "96a2205f-889f-4089-8b17-6b00ed531d76"
   },
   "outputs": [
    {
     "data": {
      "text/plain": [
       "array(['NO', 'YES', 'Cannot say'], dtype=object)"
      ]
     },
     "execution_count": 12,
     "metadata": {},
     "output_type": "execute_result"
    }
   ],
   "source": [
    "pharma_data.Patient_Smoker.unique()"
   ]
  },
  {
   "cell_type": "code",
   "execution_count": 13,
   "metadata": {
    "colab": {
     "base_uri": "https://localhost:8080/",
     "height": 280
    },
    "colab_type": "code",
    "id": "Ho3vMkuSob2W",
    "outputId": "dd1b9331-98b2-4e57-aaa5-886bd43f6be4"
   },
   "outputs": [
    {
     "data": {
      "image/png": "[encoded data removed]",
      "text/plain": [
       "<Figure size 432x288 with 1 Axes>"
      ]
     },
     "metadata": {
      "needs_background": "light"
     },
     "output_type": "display_data"
    }
   ],
   "source": [
    "sns.countplot(pharma_data['Patient_Smoker'])\n",
    "plt.show()"
   ]
  },
  {
   "cell_type": "code",
   "execution_count": 14,
   "metadata": {
    "colab": {
     "base_uri": "https://localhost:8080/",
     "height": 86
    },
    "colab_type": "code",
    "id": "WaHn_n5Aotjb",
    "outputId": "183fc9fe-ccb8-4d99-c70f-1d80689bcd37"
   },
   "outputs": [
    {
     "data": {
      "text/plain": [
       "NO            14402\n",
       "YES           10669\n",
       "Cannot say        8\n",
       "Name: Patient_Smoker, dtype: int64"
      ]
     },
     "execution_count": 14,
     "metadata": {},
     "output_type": "execute_result"
    }
   ],
   "source": [
    "pharma_data['Patient_Smoker'].value_counts()"
   ]
  },
  {
   "cell_type": "code",
   "execution_count": 15,
   "metadata": {
    "colab": {},
    "colab_type": "code",
    "id": "bFJ4zqH-F29G"
   },
   "outputs": [],
   "source": [
    "pharma_data[\"Patient_Smoker\"].replace({\"NO\":0, \"YES\":1, \"Cannot say\":2}, inplace=True)"
   ]
  },
  {
   "cell_type": "code",
   "execution_count": 16,
   "metadata": {
    "colab": {
     "base_uri": "https://localhost:8080/",
     "height": 34
    },
    "colab_type": "code",
    "id": "nkLocmCnBheF",
    "outputId": "f7c81057-ed60-4906-c158-a14bb98f76bf"
   },
   "outputs": [
    {
     "data": {
      "text/plain": [
       "array(['Stable'], dtype=object)"
      ]
     },
     "execution_count": 16,
     "metadata": {},
     "output_type": "execute_result"
    }
   ],
   "source": [
    "pharma_data.Patient_mental_condition.unique()"
   ]
  },
  {
   "cell_type": "code",
   "execution_count": 17,
   "metadata": {
    "colab": {
     "base_uri": "https://localhost:8080/",
     "height": 280
    },
    "colab_type": "code",
    "id": "3NnyehH8qdMA",
    "outputId": "a7e4f394-b7ca-4ea0-9a3d-5b5d9da3c707"
   },
   "outputs": [
    {
     "data": {
      "image/png": "[encoded data removed]",
      "text/plain": [
       "<Figure size 432x288 with 1 Axes>"
      ]
     },
     "metadata": {
      "needs_background": "light"
     },
     "output_type": "display_data"
    }
   ],
   "source": [
    "sns.countplot(pharma_data['Patient_mental_condition'])\n",
    "plt.show()"
   ]
  },
  {
   "cell_type": "markdown",
   "metadata": {
    "colab_type": "text",
    "id": "sf6qWLq8CElK"
   },
   "source": [
    "It is observed that \"Patient mental condition\" is Stable for all patients"
   ]
  },
  {
   "cell_type": "code",
   "execution_count": 18,
   "metadata": {
    "colab": {},
    "colab_type": "code",
    "id": "D6kj7GRmFV5e"
   },
   "outputs": [],
   "source": [
    "pharma_data[\"Patient_mental_condition\"].replace({\"Stable\": 1}, inplace=True)"
   ]
  },
  {
   "cell_type": "code",
   "execution_count": 19,
   "metadata": {
    "colab": {
     "base_uri": "https://localhost:8080/",
     "height": 280
    },
    "colab_type": "code",
    "id": "5UEoKk9dqmwu",
    "outputId": "b2ce37c6-486e-4269-cee4-0746679eea25"
   },
   "outputs": [
    {
     "data": {
      "image/png": "[encoded data removed]",
      "text/plain": [
       "<Figure size 432x288 with 1 Axes>"
      ]
     },
     "metadata": {
      "needs_background": "light"
     },
     "output_type": "display_data"
    }
   ],
   "source": [
    "sns.countplot(pharma_data['Patient_Rural_Urban'])\n",
    "plt.show()"
   ]
  },
  {
   "cell_type": "markdown",
   "metadata": {
    "colab_type": "text",
    "id": "wuGR-x09qr5M"
   },
   "source": [
    "Majority of the patients live in rural environment"
   ]
  },
  {
   "cell_type": "code",
   "execution_count": 20,
   "metadata": {
    "colab": {},
    "colab_type": "code",
    "id": "R5x7_y17Buo-"
   },
   "outputs": [],
   "source": [
    "pharma_data[\"Patient_Rural_Urban\"].replace({\"RURAL\":0, \"URBAN\":1}, inplace=True)"
   ]
  },
  {
   "cell_type": "code",
   "execution_count": 21,
   "metadata": {
    "colab": {
     "base_uri": "https://localhost:8080/",
     "height": 34
    },
    "colab_type": "code",
    "id": "nnVMIMOnElPl",
    "outputId": "141a9664-831e-4918-936d-946bf49b6d64"
   },
   "outputs": [
    {
     "data": {
      "text/plain": [
       "array([1, 0])"
      ]
     },
     "execution_count": 21,
     "metadata": {},
     "output_type": "execute_result"
    }
   ],
   "source": [
    "pharma_data.Patient_Rural_Urban.unique()"
   ]
  },
  {
   "cell_type": "code",
   "execution_count": 22,
   "metadata": {
    "colab": {
     "base_uri": "https://localhost:8080/",
     "height": 280
    },
    "colab_type": "code",
    "id": "i7URJRxgsOhr",
    "outputId": "507fabbd-31a5-4e28-e09f-27f99af96767"
   },
   "outputs": [
    {
     "data": {
      "image/png": "[encoded data removed]",
      "text/plain": [
       "<Figure size 432x288 with 1 Axes>"
      ]
     },
     "metadata": {
      "needs_background": "light"
     },
     "output_type": "display_data"
    }
   ],
   "source": [
    "sns.distplot(pharma_data['Diagnosed_Condition'])\n",
    "plt.show()"
   ]
  },
  {
   "cell_type": "code",
   "execution_count": 23,
   "metadata": {
    "colab": {
     "base_uri": "https://localhost:8080/",
     "height": 163
    },
    "colab_type": "code",
    "id": "7apvngoeEWsl",
    "outputId": "3303ebcd-22c1-4e9e-f4e8-35bb24a7f0de"
   },
   "outputs": [
    {
     "data": {
      "text/html": [
       "<div>\n",
       "<style scoped>\n",
       "    .dataframe tbody tr th:only-of-type {\n",
       "        vertical-align: middle;\n",
       "    }\n",
       "\n",
       "    .dataframe tbody tr th {\n",
       "        vertical-align: top;\n",
       "    }\n",
       "\n",
       "    .dataframe thead th {\n",
       "        text-align: right;\n",
       "    }\n",
       "</style>\n",
       "<table border=\"1\" class=\"dataframe\">\n",
       "  <thead>\n",
       "    <tr style=\"text-align: right;\">\n",
       "      <th></th>\n",
       "      <th>ID_Patient_Care_Situation</th>\n",
       "      <th>Diagnosed_Condition</th>\n",
       "      <th>Patient_ID</th>\n",
       "      <th>Treated_with_drugs</th>\n",
       "      <th>Patient_Age</th>\n",
       "      <th>Patient_Body_Mass_Index</th>\n",
       "      <th>Patient_Smoker</th>\n",
       "      <th>Patient_Rural_Urban</th>\n",
       "      <th>Patient_mental_condition</th>\n",
       "      <th>A</th>\n",
       "      <th>B</th>\n",
       "      <th>C</th>\n",
       "      <th>D</th>\n",
       "      <th>E</th>\n",
       "      <th>F</th>\n",
       "      <th>Z</th>\n",
       "      <th>Number_of_prev_cond</th>\n",
       "      <th>Survived_1_year</th>\n",
       "    </tr>\n",
       "  </thead>\n",
       "  <tbody>\n",
       "    <tr>\n",
       "      <th>16947</th>\n",
       "      <td>16187</td>\n",
       "      <td>22</td>\n",
       "      <td>2676</td>\n",
       "      <td>DX6</td>\n",
       "      <td>30</td>\n",
       "      <td>26.908612</td>\n",
       "      <td>0</td>\n",
       "      <td>0</td>\n",
       "      <td>1</td>\n",
       "      <td>1.0</td>\n",
       "      <td>0.0</td>\n",
       "      <td>0.0</td>\n",
       "      <td>0.0</td>\n",
       "      <td>0.0</td>\n",
       "      <td>0.0</td>\n",
       "      <td>0.0</td>\n",
       "      <td>1.0</td>\n",
       "      <td>1</td>\n",
       "    </tr>\n",
       "    <tr>\n",
       "      <th>3895</th>\n",
       "      <td>29176</td>\n",
       "      <td>43</td>\n",
       "      <td>380</td>\n",
       "      <td>DX2 DX4</td>\n",
       "      <td>39</td>\n",
       "      <td>21.817005</td>\n",
       "      <td>1</td>\n",
       "      <td>1</td>\n",
       "      <td>1</td>\n",
       "      <td>NaN</td>\n",
       "      <td>NaN</td>\n",
       "      <td>NaN</td>\n",
       "      <td>NaN</td>\n",
       "      <td>NaN</td>\n",
       "      <td>NaN</td>\n",
       "      <td>NaN</td>\n",
       "      <td>NaN</td>\n",
       "      <td>0</td>\n",
       "    </tr>\n",
       "    <tr>\n",
       "      <th>15585</th>\n",
       "      <td>15482</td>\n",
       "      <td>16</td>\n",
       "      <td>2867</td>\n",
       "      <td>dx4</td>\n",
       "      <td>55</td>\n",
       "      <td>20.187902</td>\n",
       "      <td>0</td>\n",
       "      <td>0</td>\n",
       "      <td>1</td>\n",
       "      <td>1.0</td>\n",
       "      <td>0.0</td>\n",
       "      <td>1.0</td>\n",
       "      <td>0.0</td>\n",
       "      <td>1.0</td>\n",
       "      <td>0.0</td>\n",
       "      <td>0.0</td>\n",
       "      <td>3.0</td>\n",
       "      <td>1</td>\n",
       "    </tr>\n",
       "  </tbody>\n",
       "</table>\n",
       "</div>"
      ],
      "text/plain": [
       "       ID_Patient_Care_Situation  Diagnosed_Condition  Patient_ID  \\\n",
       "16947                      16187                   22        2676   \n",
       "3895                       29176                   43         380   \n",
       "15585                      15482                   16        2867   \n",
       "\n",
       "      Treated_with_drugs  Patient_Age  Patient_Body_Mass_Index  \\\n",
       "16947               DX6            30                26.908612   \n",
       "3895             DX2 DX4           39                21.817005   \n",
       "15585                dx4           55                20.187902   \n",
       "\n",
       "       Patient_Smoker  Patient_Rural_Urban  Patient_mental_condition    A  \\\n",
       "16947               0                    0                         1  1.0   \n",
       "3895                1                    1                         1  NaN   \n",
       "15585               0                    0                         1  1.0   \n",
       "\n",
       "         B    C    D    E    F    Z  Number_of_prev_cond  Survived_1_year  \n",
       "16947  0.0  0.0  0.0  0.0  0.0  0.0                  1.0                1  \n",
       "3895   NaN  NaN  NaN  NaN  NaN  NaN                  NaN                0  \n",
       "15585  0.0  1.0  0.0  1.0  0.0  0.0                  3.0                1  "
      ]
     },
     "execution_count": 23,
     "metadata": {},
     "output_type": "execute_result"
    }
   ],
   "source": [
    "pharma_data.sample(3)"
   ]
  },
  {
   "cell_type": "code",
   "execution_count": 24,
   "metadata": {
    "colab": {
     "base_uri": "https://localhost:8080/",
     "height": 694
    },
    "colab_type": "code",
    "id": "pSKmNzf3FuzJ",
    "outputId": "425b12a7-6388-44d7-958e-d51009a3699a"
   },
   "outputs": [
    {
     "data": {
      "text/plain": [
       "array(['DX2', 'DX6', 'Dx6', 'dx6 ', 'dx1', 'dx1 dx3 dx4 ', 'DX5 ', 'dx2 ',\n",
       "       'dx6', 'DX2 DX5 ', 'DX6 ', 'DX1', 'DX3 DX5', 'DX1 DX3', 'DX3 DX4 ',\n",
       "       'Dx3', 'DX2 DX3', 'DX1 ', 'DX3', 'dx4', 'Dx2', 'Dx1', 'dx1 ',\n",
       "       'DX1 DX2 DX3 DX5', 'Dx1 dx3', 'Dx5', 'DX2 ', 'DX4 ', 'DX4', 'dx3 ',\n",
       "       'DX3 DX4 DX5 ', 'DX1 DX3 ', 'DX2 DX5', 'dx3', 'DX1 DX5', 'DX2 DX4',\n",
       "       'dx2 dx3 ', 'dx2', 'DX3 DX5 ', 'DX5', 'DX2 DX3 DX4 ', 'DX4 DX5 ',\n",
       "       'DX3 ', 'DX1 DX5 ', 'dx5', 'Dx4', 'DX1 DX3 DX5', 'DX1 DX4 ',\n",
       "       'DX4 DX5', 'dx4 dx5', 'DX1 DX2 ', 'DX1 DX3 DX5 ', 'dx1 dx4',\n",
       "       'dx4 dx5 ', 'Dx1 dx4 ', 'Dx1 dx2 dx4 dx5 ', 'DX1 DX2', 'Dx4 dx5',\n",
       "       'DX1 DX3 DX4', 'DX1 DX2 DX3', 'Dx1 dx2', 'DX1 DX4 DX5 ',\n",
       "       'Dx1 dx2 ', 'DX1 DX4', 'dx2 dx5', 'dx3 dx4', 'DX3 DX4', 'dx2 dx4',\n",
       "       'Dx2 ', 'DX3 DX4 DX5', 'Dx5 ', 'Dx1 dx3 ', 'dx3 dx5', 'Dx6 ',\n",
       "       'DX1 DX3 DX4 ', 'DX1 DX2 DX4', 'dx5 ', 'DX2 DX4 ', 'DX1 DX4 DX5',\n",
       "       'Dx1 dx2 dx3 dx5', 'dx1 dx3 dx5 ', 'Dx2 dx5', 'dx2 dx3 dx4 ',\n",
       "       'DX1 DX2 DX5', 'dx4 ', 'DX2 DX4 DX5', 'DX2 DX3 DX5 ',\n",
       "       'Dx1 dx2 dx4', 'DX2 DX3 DX5', 'dx1 dx5 ', 'DX2 DX3 ', 'dx2 dx4 ',\n",
       "       'Dx3 dx4 dx5', 'Dx1 ', 'Dx3 ', 'dx1 dx4 ', 'Dx2 dx3 dx5 ',\n",
       "       'dx1 dx2 dx4', 'dx1 dx5', 'DX1 DX2 DX4 ', 'DX1 DX2 DX3 ',\n",
       "       'Dx2 dx5 ', 'Dx2 dx3 dx4 ', 'Dx3 dx5', 'Dx2 dx4', 'dx2 dx5 ', nan,\n",
       "       'Dx4 ', 'dx1 dx2 dx4 dx5', 'dx3 dx5 ', 'Dx2 dx3', 'DX2 DX3 DX4',\n",
       "       'dx1 dx2', 'DX2 DX4 DX5 ', 'Dx2 dx3 ', 'dx3 dx4 ', 'dx2 dx3',\n",
       "       'Dx4 dx5 ', 'DX1 DX2 DX3 DX4', 'Dx1 dx5', 'Dx1 dx4', 'dx1 dx3 dx5',\n",
       "       'Dx1 dx2 dx5', 'Dx2 dx4 ', 'DX1 DX3 DX4 DX5', 'dx1 dx3',\n",
       "       'Dx2 dx3 dx5', 'dx2 dx3 dx4', 'dx1 dx2 dx5 ', 'Dx3 dx4 ',\n",
       "       'dx1 dx4 dx5', 'dx1 dx3 dx4', 'Dx3 dx4', 'dx1 dx4 dx5 ',\n",
       "       'dx1 dx2 ', 'Dx1 dx2 dx4 dx5', 'Dx1 dx3 dx5 ', 'DX1 DX2 DX3 DX4 ',\n",
       "       'Dx2 dx4 dx5', 'dx3 dx4 dx5', 'Dx2 dx3 dx4', 'DX1 DX2 DX4 DX5',\n",
       "       'Dx3 dx5 ', 'dx1 dx3 ', 'dx1 dx2 dx5', 'DX1 DX2 DX5 ',\n",
       "       'Dx1 dx4 dx5 ', 'dx1 dx2 dx4 ', 'Dx1 dx5 ', 'DX2 DX3 DX4 DX5',\n",
       "       'Dx1 dx3 dx4', 'dx2 dx3 dx5 ', 'Dx1 dx2 dx3 ', 'DX1 DX2 DX4 DX5 ',\n",
       "       'dx2 dx3 dx4 dx5', 'dx1 dx2 dx3', 'DX1 DX2 DX3 DX4 DX5',\n",
       "       'DX1 DX3 DX4 DX5 ', 'Dx1 dx3 dx4 ', 'dx1 dx2 dx3 ', 'Dx1 dx2 dx3',\n",
       "       'dx1 dx3 dx4 dx5', 'Dx1 dx3 dx5', 'dx2 dx3 dx5', 'dx1 dx2 dx3 dx5',\n",
       "       'Dx3 dx4 dx5 ', 'dx1 dx3 dx4 dx5 ', 'DX2 DX3 DX4 DX5 ',\n",
       "       'dx1 dx2 dx3 dx4', 'dx2 dx4 dx5 ', 'dx2 dx4 dx5', 'Dx1 dx4 dx5',\n",
       "       'dx2 dx3 dx4 dx5 ', 'Dx1 dx2 dx5 ', 'dx1 dx2 dx3 dx5 ',\n",
       "       'Dx2 dx4 dx5 ', 'Dx1 dx2 dx3 dx4 ', 'Dx2 dx3 dx4 dx5',\n",
       "       'Dx1 dx2 dx3 dx4', 'Dx1 dx3 dx4 dx5', 'dx3 dx4 dx5 ',\n",
       "       'Dx1 dx2 dx4 ', 'DX1 DX2 DX3 DX4 DX5 '], dtype=object)"
      ]
     },
     "execution_count": 24,
     "metadata": {},
     "output_type": "execute_result"
    }
   ],
   "source": [
    "pharma_data.Treated_with_drugs.unique()"
   ]
  },
  {
   "cell_type": "markdown",
   "metadata": {
    "colab_type": "text",
    "id": "bxZ-z2JSGC7l"
   },
   "source": [
    "## Handle missing values"
   ]
  },
  {
   "cell_type": "code",
   "execution_count": 25,
   "metadata": {
    "colab": {
     "base_uri": "https://localhost:8080/",
     "height": 347
    },
    "colab_type": "code",
    "id": "Tgr1MZg0GFth",
    "outputId": "eeebda69-5284-4eed-cf3f-1f1f1d62a0f3"
   },
   "outputs": [
    {
     "data": {
      "text/plain": [
       "ID_Patient_Care_Situation       0\n",
       "Diagnosed_Condition             0\n",
       "Patient_ID                      0\n",
       "Treated_with_drugs              8\n",
       "Patient_Age                     0\n",
       "Patient_Body_Mass_Index         0\n",
       "Patient_Smoker                  0\n",
       "Patient_Rural_Urban             0\n",
       "Patient_mental_condition        0\n",
       "A                            1356\n",
       "B                            1356\n",
       "C                            1356\n",
       "D                            1356\n",
       "E                            1356\n",
       "F                            1356\n",
       "Z                            1356\n",
       "Number_of_prev_cond          1356\n",
       "Survived_1_year                 0\n",
       "dtype: int64"
      ]
     },
     "execution_count": 25,
     "metadata": {},
     "output_type": "execute_result"
    }
   ],
   "source": [
    "pharma_data.isnull().sum()"
   ]
  },
  {
   "cell_type": "code",
   "execution_count": 26,
   "metadata": {
    "colab": {
     "base_uri": "https://localhost:8080/",
     "height": 444
    },
    "colab_type": "code",
    "id": "8FijLiWVj1re",
    "outputId": "73a7477d-dfad-4790-a698-37981a647be4"
   },
   "outputs": [
    {
     "data": {
      "text/html": [
       "<div>\n",
       "<style scoped>\n",
       "    .dataframe tbody tr th:only-of-type {\n",
       "        vertical-align: middle;\n",
       "    }\n",
       "\n",
       "    .dataframe tbody tr th {\n",
       "        vertical-align: top;\n",
       "    }\n",
       "\n",
       "    .dataframe thead th {\n",
       "        text-align: right;\n",
       "    }\n",
       "</style>\n",
       "<table border=\"1\" class=\"dataframe\">\n",
       "  <thead>\n",
       "    <tr style=\"text-align: right;\">\n",
       "      <th></th>\n",
       "      <th>ID_Patient_Care_Situation</th>\n",
       "      <th>Diagnosed_Condition</th>\n",
       "      <th>Patient_ID</th>\n",
       "      <th>Treated_with_drugs</th>\n",
       "      <th>Patient_Age</th>\n",
       "      <th>Patient_Body_Mass_Index</th>\n",
       "      <th>Patient_Smoker</th>\n",
       "      <th>Patient_Rural_Urban</th>\n",
       "      <th>Patient_mental_condition</th>\n",
       "      <th>A</th>\n",
       "      <th>B</th>\n",
       "      <th>C</th>\n",
       "      <th>D</th>\n",
       "      <th>E</th>\n",
       "      <th>F</th>\n",
       "      <th>Z</th>\n",
       "      <th>Number_of_prev_cond</th>\n",
       "      <th>Survived_1_year</th>\n",
       "    </tr>\n",
       "  </thead>\n",
       "  <tbody>\n",
       "    <tr>\n",
       "      <th>45</th>\n",
       "      <td>29462</td>\n",
       "      <td>19</td>\n",
       "      <td>3231</td>\n",
       "      <td>DX6</td>\n",
       "      <td>50</td>\n",
       "      <td>27.994080</td>\n",
       "      <td>0</td>\n",
       "      <td>0</td>\n",
       "      <td>1</td>\n",
       "      <td>NaN</td>\n",
       "      <td>NaN</td>\n",
       "      <td>NaN</td>\n",
       "      <td>NaN</td>\n",
       "      <td>NaN</td>\n",
       "      <td>NaN</td>\n",
       "      <td>NaN</td>\n",
       "      <td>NaN</td>\n",
       "      <td>1</td>\n",
       "    </tr>\n",
       "    <tr>\n",
       "      <th>61</th>\n",
       "      <td>5332</td>\n",
       "      <td>46</td>\n",
       "      <td>3161</td>\n",
       "      <td>DX2 DX5</td>\n",
       "      <td>18</td>\n",
       "      <td>21.713657</td>\n",
       "      <td>0</td>\n",
       "      <td>1</td>\n",
       "      <td>1</td>\n",
       "      <td>NaN</td>\n",
       "      <td>NaN</td>\n",
       "      <td>NaN</td>\n",
       "      <td>NaN</td>\n",
       "      <td>NaN</td>\n",
       "      <td>NaN</td>\n",
       "      <td>NaN</td>\n",
       "      <td>NaN</td>\n",
       "      <td>1</td>\n",
       "    </tr>\n",
       "    <tr>\n",
       "      <th>76</th>\n",
       "      <td>19576</td>\n",
       "      <td>35</td>\n",
       "      <td>9364</td>\n",
       "      <td>DX6</td>\n",
       "      <td>18</td>\n",
       "      <td>20.125493</td>\n",
       "      <td>0</td>\n",
       "      <td>0</td>\n",
       "      <td>1</td>\n",
       "      <td>NaN</td>\n",
       "      <td>NaN</td>\n",
       "      <td>NaN</td>\n",
       "      <td>NaN</td>\n",
       "      <td>NaN</td>\n",
       "      <td>NaN</td>\n",
       "      <td>NaN</td>\n",
       "      <td>NaN</td>\n",
       "      <td>1</td>\n",
       "    </tr>\n",
       "    <tr>\n",
       "      <th>86</th>\n",
       "      <td>32024</td>\n",
       "      <td>31</td>\n",
       "      <td>3154</td>\n",
       "      <td>DX3 DX5</td>\n",
       "      <td>16</td>\n",
       "      <td>27.182629</td>\n",
       "      <td>1</td>\n",
       "      <td>0</td>\n",
       "      <td>1</td>\n",
       "      <td>NaN</td>\n",
       "      <td>NaN</td>\n",
       "      <td>NaN</td>\n",
       "      <td>NaN</td>\n",
       "      <td>NaN</td>\n",
       "      <td>NaN</td>\n",
       "      <td>NaN</td>\n",
       "      <td>NaN</td>\n",
       "      <td>0</td>\n",
       "    </tr>\n",
       "    <tr>\n",
       "      <th>133</th>\n",
       "      <td>10359</td>\n",
       "      <td>52</td>\n",
       "      <td>10544</td>\n",
       "      <td>Dx6</td>\n",
       "      <td>27</td>\n",
       "      <td>20.167178</td>\n",
       "      <td>1</td>\n",
       "      <td>0</td>\n",
       "      <td>1</td>\n",
       "      <td>NaN</td>\n",
       "      <td>NaN</td>\n",
       "      <td>NaN</td>\n",
       "      <td>NaN</td>\n",
       "      <td>NaN</td>\n",
       "      <td>NaN</td>\n",
       "      <td>NaN</td>\n",
       "      <td>NaN</td>\n",
       "      <td>1</td>\n",
       "    </tr>\n",
       "    <tr>\n",
       "      <th>138</th>\n",
       "      <td>24884</td>\n",
       "      <td>14</td>\n",
       "      <td>6071</td>\n",
       "      <td>DX1 DX3</td>\n",
       "      <td>60</td>\n",
       "      <td>23.967078</td>\n",
       "      <td>0</td>\n",
       "      <td>0</td>\n",
       "      <td>1</td>\n",
       "      <td>NaN</td>\n",
       "      <td>NaN</td>\n",
       "      <td>NaN</td>\n",
       "      <td>NaN</td>\n",
       "      <td>NaN</td>\n",
       "      <td>NaN</td>\n",
       "      <td>NaN</td>\n",
       "      <td>NaN</td>\n",
       "      <td>1</td>\n",
       "    </tr>\n",
       "    <tr>\n",
       "      <th>150</th>\n",
       "      <td>9785</td>\n",
       "      <td>1</td>\n",
       "      <td>8401</td>\n",
       "      <td>DX6</td>\n",
       "      <td>49</td>\n",
       "      <td>19.433364</td>\n",
       "      <td>0</td>\n",
       "      <td>0</td>\n",
       "      <td>1</td>\n",
       "      <td>NaN</td>\n",
       "      <td>NaN</td>\n",
       "      <td>NaN</td>\n",
       "      <td>NaN</td>\n",
       "      <td>NaN</td>\n",
       "      <td>NaN</td>\n",
       "      <td>NaN</td>\n",
       "      <td>NaN</td>\n",
       "      <td>1</td>\n",
       "    </tr>\n",
       "    <tr>\n",
       "      <th>156</th>\n",
       "      <td>582</td>\n",
       "      <td>1</td>\n",
       "      <td>2202</td>\n",
       "      <td>DX6</td>\n",
       "      <td>6</td>\n",
       "      <td>22.867910</td>\n",
       "      <td>0</td>\n",
       "      <td>1</td>\n",
       "      <td>1</td>\n",
       "      <td>NaN</td>\n",
       "      <td>NaN</td>\n",
       "      <td>NaN</td>\n",
       "      <td>NaN</td>\n",
       "      <td>NaN</td>\n",
       "      <td>NaN</td>\n",
       "      <td>NaN</td>\n",
       "      <td>NaN</td>\n",
       "      <td>1</td>\n",
       "    </tr>\n",
       "    <tr>\n",
       "      <th>217</th>\n",
       "      <td>17548</td>\n",
       "      <td>52</td>\n",
       "      <td>2863</td>\n",
       "      <td>dx4</td>\n",
       "      <td>42</td>\n",
       "      <td>19.781170</td>\n",
       "      <td>0</td>\n",
       "      <td>1</td>\n",
       "      <td>1</td>\n",
       "      <td>NaN</td>\n",
       "      <td>NaN</td>\n",
       "      <td>NaN</td>\n",
       "      <td>NaN</td>\n",
       "      <td>NaN</td>\n",
       "      <td>NaN</td>\n",
       "      <td>NaN</td>\n",
       "      <td>NaN</td>\n",
       "      <td>1</td>\n",
       "    </tr>\n",
       "    <tr>\n",
       "      <th>230</th>\n",
       "      <td>3757</td>\n",
       "      <td>49</td>\n",
       "      <td>9391</td>\n",
       "      <td>DX6</td>\n",
       "      <td>5</td>\n",
       "      <td>28.476292</td>\n",
       "      <td>0</td>\n",
       "      <td>0</td>\n",
       "      <td>1</td>\n",
       "      <td>NaN</td>\n",
       "      <td>NaN</td>\n",
       "      <td>NaN</td>\n",
       "      <td>NaN</td>\n",
       "      <td>NaN</td>\n",
       "      <td>NaN</td>\n",
       "      <td>NaN</td>\n",
       "      <td>NaN</td>\n",
       "      <td>0</td>\n",
       "    </tr>\n",
       "    <tr>\n",
       "      <th>241</th>\n",
       "      <td>6230</td>\n",
       "      <td>21</td>\n",
       "      <td>10288</td>\n",
       "      <td>DX6</td>\n",
       "      <td>57</td>\n",
       "      <td>25.423953</td>\n",
       "      <td>0</td>\n",
       "      <td>0</td>\n",
       "      <td>1</td>\n",
       "      <td>NaN</td>\n",
       "      <td>NaN</td>\n",
       "      <td>NaN</td>\n",
       "      <td>NaN</td>\n",
       "      <td>NaN</td>\n",
       "      <td>NaN</td>\n",
       "      <td>NaN</td>\n",
       "      <td>NaN</td>\n",
       "      <td>1</td>\n",
       "    </tr>\n",
       "    <tr>\n",
       "      <th>245</th>\n",
       "      <td>24465</td>\n",
       "      <td>36</td>\n",
       "      <td>7236</td>\n",
       "      <td>DX5</td>\n",
       "      <td>36</td>\n",
       "      <td>23.279862</td>\n",
       "      <td>0</td>\n",
       "      <td>0</td>\n",
       "      <td>1</td>\n",
       "      <td>NaN</td>\n",
       "      <td>NaN</td>\n",
       "      <td>NaN</td>\n",
       "      <td>NaN</td>\n",
       "      <td>NaN</td>\n",
       "      <td>NaN</td>\n",
       "      <td>NaN</td>\n",
       "      <td>NaN</td>\n",
       "      <td>1</td>\n",
       "    </tr>\n",
       "    <tr>\n",
       "      <th>275</th>\n",
       "      <td>20499</td>\n",
       "      <td>15</td>\n",
       "      <td>2080</td>\n",
       "      <td>DX6</td>\n",
       "      <td>31</td>\n",
       "      <td>24.313309</td>\n",
       "      <td>1</td>\n",
       "      <td>1</td>\n",
       "      <td>1</td>\n",
       "      <td>NaN</td>\n",
       "      <td>NaN</td>\n",
       "      <td>NaN</td>\n",
       "      <td>NaN</td>\n",
       "      <td>NaN</td>\n",
       "      <td>NaN</td>\n",
       "      <td>NaN</td>\n",
       "      <td>NaN</td>\n",
       "      <td>1</td>\n",
       "    </tr>\n",
       "    <tr>\n",
       "      <th>300</th>\n",
       "      <td>29220</td>\n",
       "      <td>51</td>\n",
       "      <td>3304</td>\n",
       "      <td>Dx2</td>\n",
       "      <td>53</td>\n",
       "      <td>24.485866</td>\n",
       "      <td>0</td>\n",
       "      <td>0</td>\n",
       "      <td>1</td>\n",
       "      <td>NaN</td>\n",
       "      <td>NaN</td>\n",
       "      <td>NaN</td>\n",
       "      <td>NaN</td>\n",
       "      <td>NaN</td>\n",
       "      <td>NaN</td>\n",
       "      <td>NaN</td>\n",
       "      <td>NaN</td>\n",
       "      <td>1</td>\n",
       "    </tr>\n",
       "    <tr>\n",
       "      <th>303</th>\n",
       "      <td>23506</td>\n",
       "      <td>37</td>\n",
       "      <td>11319</td>\n",
       "      <td>DX6</td>\n",
       "      <td>63</td>\n",
       "      <td>19.491071</td>\n",
       "      <td>0</td>\n",
       "      <td>0</td>\n",
       "      <td>1</td>\n",
       "      <td>NaN</td>\n",
       "      <td>NaN</td>\n",
       "      <td>NaN</td>\n",
       "      <td>NaN</td>\n",
       "      <td>NaN</td>\n",
       "      <td>NaN</td>\n",
       "      <td>NaN</td>\n",
       "      <td>NaN</td>\n",
       "      <td>1</td>\n",
       "    </tr>\n",
       "    <tr>\n",
       "      <th>307</th>\n",
       "      <td>21930</td>\n",
       "      <td>10</td>\n",
       "      <td>8999</td>\n",
       "      <td>DX1</td>\n",
       "      <td>65</td>\n",
       "      <td>23.156971</td>\n",
       "      <td>0</td>\n",
       "      <td>0</td>\n",
       "      <td>1</td>\n",
       "      <td>NaN</td>\n",
       "      <td>NaN</td>\n",
       "      <td>NaN</td>\n",
       "      <td>NaN</td>\n",
       "      <td>NaN</td>\n",
       "      <td>NaN</td>\n",
       "      <td>NaN</td>\n",
       "      <td>NaN</td>\n",
       "      <td>1</td>\n",
       "    </tr>\n",
       "    <tr>\n",
       "      <th>319</th>\n",
       "      <td>20397</td>\n",
       "      <td>11</td>\n",
       "      <td>9996</td>\n",
       "      <td>DX6</td>\n",
       "      <td>35</td>\n",
       "      <td>19.378991</td>\n",
       "      <td>1</td>\n",
       "      <td>1</td>\n",
       "      <td>1</td>\n",
       "      <td>NaN</td>\n",
       "      <td>NaN</td>\n",
       "      <td>NaN</td>\n",
       "      <td>NaN</td>\n",
       "      <td>NaN</td>\n",
       "      <td>NaN</td>\n",
       "      <td>NaN</td>\n",
       "      <td>NaN</td>\n",
       "      <td>1</td>\n",
       "    </tr>\n",
       "    <tr>\n",
       "      <th>321</th>\n",
       "      <td>13883</td>\n",
       "      <td>15</td>\n",
       "      <td>9459</td>\n",
       "      <td>DX6</td>\n",
       "      <td>20</td>\n",
       "      <td>27.161977</td>\n",
       "      <td>1</td>\n",
       "      <td>1</td>\n",
       "      <td>1</td>\n",
       "      <td>NaN</td>\n",
       "      <td>NaN</td>\n",
       "      <td>NaN</td>\n",
       "      <td>NaN</td>\n",
       "      <td>NaN</td>\n",
       "      <td>NaN</td>\n",
       "      <td>NaN</td>\n",
       "      <td>NaN</td>\n",
       "      <td>0</td>\n",
       "    </tr>\n",
       "    <tr>\n",
       "      <th>346</th>\n",
       "      <td>8643</td>\n",
       "      <td>49</td>\n",
       "      <td>11861</td>\n",
       "      <td>dx2 dx4</td>\n",
       "      <td>42</td>\n",
       "      <td>19.811964</td>\n",
       "      <td>0</td>\n",
       "      <td>1</td>\n",
       "      <td>1</td>\n",
       "      <td>NaN</td>\n",
       "      <td>NaN</td>\n",
       "      <td>NaN</td>\n",
       "      <td>NaN</td>\n",
       "      <td>NaN</td>\n",
       "      <td>NaN</td>\n",
       "      <td>NaN</td>\n",
       "      <td>NaN</td>\n",
       "      <td>1</td>\n",
       "    </tr>\n",
       "    <tr>\n",
       "      <th>351</th>\n",
       "      <td>22516</td>\n",
       "      <td>49</td>\n",
       "      <td>441</td>\n",
       "      <td>DX6</td>\n",
       "      <td>49</td>\n",
       "      <td>21.923367</td>\n",
       "      <td>0</td>\n",
       "      <td>0</td>\n",
       "      <td>1</td>\n",
       "      <td>NaN</td>\n",
       "      <td>NaN</td>\n",
       "      <td>NaN</td>\n",
       "      <td>NaN</td>\n",
       "      <td>NaN</td>\n",
       "      <td>NaN</td>\n",
       "      <td>NaN</td>\n",
       "      <td>NaN</td>\n",
       "      <td>1</td>\n",
       "    </tr>\n",
       "    <tr>\n",
       "      <th>358</th>\n",
       "      <td>9615</td>\n",
       "      <td>21</td>\n",
       "      <td>5874</td>\n",
       "      <td>DX1 DX3 DX5</td>\n",
       "      <td>49</td>\n",
       "      <td>26.645434</td>\n",
       "      <td>1</td>\n",
       "      <td>0</td>\n",
       "      <td>1</td>\n",
       "      <td>NaN</td>\n",
       "      <td>NaN</td>\n",
       "      <td>NaN</td>\n",
       "      <td>NaN</td>\n",
       "      <td>NaN</td>\n",
       "      <td>NaN</td>\n",
       "      <td>NaN</td>\n",
       "      <td>NaN</td>\n",
       "      <td>1</td>\n",
       "    </tr>\n",
       "    <tr>\n",
       "      <th>366</th>\n",
       "      <td>11700</td>\n",
       "      <td>44</td>\n",
       "      <td>6145</td>\n",
       "      <td>DX4</td>\n",
       "      <td>34</td>\n",
       "      <td>28.354121</td>\n",
       "      <td>0</td>\n",
       "      <td>1</td>\n",
       "      <td>1</td>\n",
       "      <td>NaN</td>\n",
       "      <td>NaN</td>\n",
       "      <td>NaN</td>\n",
       "      <td>NaN</td>\n",
       "      <td>NaN</td>\n",
       "      <td>NaN</td>\n",
       "      <td>NaN</td>\n",
       "      <td>NaN</td>\n",
       "      <td>1</td>\n",
       "    </tr>\n",
       "    <tr>\n",
       "      <th>390</th>\n",
       "      <td>14311</td>\n",
       "      <td>13</td>\n",
       "      <td>10092</td>\n",
       "      <td>DX2</td>\n",
       "      <td>13</td>\n",
       "      <td>25.485672</td>\n",
       "      <td>1</td>\n",
       "      <td>1</td>\n",
       "      <td>1</td>\n",
       "      <td>NaN</td>\n",
       "      <td>NaN</td>\n",
       "      <td>NaN</td>\n",
       "      <td>NaN</td>\n",
       "      <td>NaN</td>\n",
       "      <td>NaN</td>\n",
       "      <td>NaN</td>\n",
       "      <td>NaN</td>\n",
       "      <td>1</td>\n",
       "    </tr>\n",
       "    <tr>\n",
       "      <th>467</th>\n",
       "      <td>22617</td>\n",
       "      <td>25</td>\n",
       "      <td>4227</td>\n",
       "      <td>DX3</td>\n",
       "      <td>31</td>\n",
       "      <td>28.538678</td>\n",
       "      <td>0</td>\n",
       "      <td>0</td>\n",
       "      <td>1</td>\n",
       "      <td>NaN</td>\n",
       "      <td>NaN</td>\n",
       "      <td>NaN</td>\n",
       "      <td>NaN</td>\n",
       "      <td>NaN</td>\n",
       "      <td>NaN</td>\n",
       "      <td>NaN</td>\n",
       "      <td>NaN</td>\n",
       "      <td>1</td>\n",
       "    </tr>\n",
       "    <tr>\n",
       "      <th>473</th>\n",
       "      <td>30232</td>\n",
       "      <td>47</td>\n",
       "      <td>5239</td>\n",
       "      <td>DX4</td>\n",
       "      <td>50</td>\n",
       "      <td>21.072701</td>\n",
       "      <td>0</td>\n",
       "      <td>1</td>\n",
       "      <td>1</td>\n",
       "      <td>NaN</td>\n",
       "      <td>NaN</td>\n",
       "      <td>NaN</td>\n",
       "      <td>NaN</td>\n",
       "      <td>NaN</td>\n",
       "      <td>NaN</td>\n",
       "      <td>NaN</td>\n",
       "      <td>NaN</td>\n",
       "      <td>1</td>\n",
       "    </tr>\n",
       "    <tr>\n",
       "      <th>490</th>\n",
       "      <td>26137</td>\n",
       "      <td>15</td>\n",
       "      <td>6305</td>\n",
       "      <td>DX6</td>\n",
       "      <td>25</td>\n",
       "      <td>29.517841</td>\n",
       "      <td>1</td>\n",
       "      <td>0</td>\n",
       "      <td>1</td>\n",
       "      <td>NaN</td>\n",
       "      <td>NaN</td>\n",
       "      <td>NaN</td>\n",
       "      <td>NaN</td>\n",
       "      <td>NaN</td>\n",
       "      <td>NaN</td>\n",
       "      <td>NaN</td>\n",
       "      <td>NaN</td>\n",
       "      <td>0</td>\n",
       "    </tr>\n",
       "    <tr>\n",
       "      <th>495</th>\n",
       "      <td>31824</td>\n",
       "      <td>19</td>\n",
       "      <td>8297</td>\n",
       "      <td>DX6</td>\n",
       "      <td>31</td>\n",
       "      <td>29.120532</td>\n",
       "      <td>1</td>\n",
       "      <td>0</td>\n",
       "      <td>1</td>\n",
       "      <td>NaN</td>\n",
       "      <td>NaN</td>\n",
       "      <td>NaN</td>\n",
       "      <td>NaN</td>\n",
       "      <td>NaN</td>\n",
       "      <td>NaN</td>\n",
       "      <td>NaN</td>\n",
       "      <td>NaN</td>\n",
       "      <td>0</td>\n",
       "    </tr>\n",
       "    <tr>\n",
       "      <th>502</th>\n",
       "      <td>19662</td>\n",
       "      <td>18</td>\n",
       "      <td>1382</td>\n",
       "      <td>dx3</td>\n",
       "      <td>4</td>\n",
       "      <td>24.724197</td>\n",
       "      <td>0</td>\n",
       "      <td>0</td>\n",
       "      <td>1</td>\n",
       "      <td>NaN</td>\n",
       "      <td>NaN</td>\n",
       "      <td>NaN</td>\n",
       "      <td>NaN</td>\n",
       "      <td>NaN</td>\n",
       "      <td>NaN</td>\n",
       "      <td>NaN</td>\n",
       "      <td>NaN</td>\n",
       "      <td>1</td>\n",
       "    </tr>\n",
       "    <tr>\n",
       "      <th>545</th>\n",
       "      <td>28842</td>\n",
       "      <td>51</td>\n",
       "      <td>5220</td>\n",
       "      <td>DX1 DX4</td>\n",
       "      <td>58</td>\n",
       "      <td>29.189009</td>\n",
       "      <td>0</td>\n",
       "      <td>0</td>\n",
       "      <td>1</td>\n",
       "      <td>NaN</td>\n",
       "      <td>NaN</td>\n",
       "      <td>NaN</td>\n",
       "      <td>NaN</td>\n",
       "      <td>NaN</td>\n",
       "      <td>NaN</td>\n",
       "      <td>NaN</td>\n",
       "      <td>NaN</td>\n",
       "      <td>1</td>\n",
       "    </tr>\n",
       "    <tr>\n",
       "      <th>560</th>\n",
       "      <td>25455</td>\n",
       "      <td>12</td>\n",
       "      <td>4963</td>\n",
       "      <td>DX5</td>\n",
       "      <td>4</td>\n",
       "      <td>22.796444</td>\n",
       "      <td>0</td>\n",
       "      <td>0</td>\n",
       "      <td>1</td>\n",
       "      <td>NaN</td>\n",
       "      <td>NaN</td>\n",
       "      <td>NaN</td>\n",
       "      <td>NaN</td>\n",
       "      <td>NaN</td>\n",
       "      <td>NaN</td>\n",
       "      <td>NaN</td>\n",
       "      <td>NaN</td>\n",
       "      <td>1</td>\n",
       "    </tr>\n",
       "    <tr>\n",
       "      <th>...</th>\n",
       "      <td>...</td>\n",
       "      <td>...</td>\n",
       "      <td>...</td>\n",
       "      <td>...</td>\n",
       "      <td>...</td>\n",
       "      <td>...</td>\n",
       "      <td>...</td>\n",
       "      <td>...</td>\n",
       "      <td>...</td>\n",
       "      <td>...</td>\n",
       "      <td>...</td>\n",
       "      <td>...</td>\n",
       "      <td>...</td>\n",
       "      <td>...</td>\n",
       "      <td>...</td>\n",
       "      <td>...</td>\n",
       "      <td>...</td>\n",
       "      <td>...</td>\n",
       "    </tr>\n",
       "    <tr>\n",
       "      <th>24381</th>\n",
       "      <td>11575</td>\n",
       "      <td>11</td>\n",
       "      <td>6234</td>\n",
       "      <td>dx2 dx3</td>\n",
       "      <td>53</td>\n",
       "      <td>27.190083</td>\n",
       "      <td>1</td>\n",
       "      <td>0</td>\n",
       "      <td>1</td>\n",
       "      <td>NaN</td>\n",
       "      <td>NaN</td>\n",
       "      <td>NaN</td>\n",
       "      <td>NaN</td>\n",
       "      <td>NaN</td>\n",
       "      <td>NaN</td>\n",
       "      <td>NaN</td>\n",
       "      <td>NaN</td>\n",
       "      <td>0</td>\n",
       "    </tr>\n",
       "    <tr>\n",
       "      <th>24396</th>\n",
       "      <td>15219</td>\n",
       "      <td>10</td>\n",
       "      <td>5683</td>\n",
       "      <td>DX2</td>\n",
       "      <td>57</td>\n",
       "      <td>29.254754</td>\n",
       "      <td>0</td>\n",
       "      <td>1</td>\n",
       "      <td>1</td>\n",
       "      <td>NaN</td>\n",
       "      <td>NaN</td>\n",
       "      <td>NaN</td>\n",
       "      <td>NaN</td>\n",
       "      <td>NaN</td>\n",
       "      <td>NaN</td>\n",
       "      <td>NaN</td>\n",
       "      <td>NaN</td>\n",
       "      <td>1</td>\n",
       "    </tr>\n",
       "    <tr>\n",
       "      <th>24400</th>\n",
       "      <td>31052</td>\n",
       "      <td>30</td>\n",
       "      <td>7996</td>\n",
       "      <td>DX3</td>\n",
       "      <td>0</td>\n",
       "      <td>22.325360</td>\n",
       "      <td>0</td>\n",
       "      <td>0</td>\n",
       "      <td>1</td>\n",
       "      <td>NaN</td>\n",
       "      <td>NaN</td>\n",
       "      <td>NaN</td>\n",
       "      <td>NaN</td>\n",
       "      <td>NaN</td>\n",
       "      <td>NaN</td>\n",
       "      <td>NaN</td>\n",
       "      <td>NaN</td>\n",
       "      <td>1</td>\n",
       "    </tr>\n",
       "    <tr>\n",
       "      <th>24413</th>\n",
       "      <td>16131</td>\n",
       "      <td>45</td>\n",
       "      <td>10439</td>\n",
       "      <td>DX2 DX3 DX4</td>\n",
       "      <td>9</td>\n",
       "      <td>20.486860</td>\n",
       "      <td>0</td>\n",
       "      <td>1</td>\n",
       "      <td>1</td>\n",
       "      <td>NaN</td>\n",
       "      <td>NaN</td>\n",
       "      <td>NaN</td>\n",
       "      <td>NaN</td>\n",
       "      <td>NaN</td>\n",
       "      <td>NaN</td>\n",
       "      <td>NaN</td>\n",
       "      <td>NaN</td>\n",
       "      <td>1</td>\n",
       "    </tr>\n",
       "    <tr>\n",
       "      <th>24439</th>\n",
       "      <td>32252</td>\n",
       "      <td>46</td>\n",
       "      <td>1712</td>\n",
       "      <td>DX1 DX4</td>\n",
       "      <td>7</td>\n",
       "      <td>24.543201</td>\n",
       "      <td>0</td>\n",
       "      <td>1</td>\n",
       "      <td>1</td>\n",
       "      <td>NaN</td>\n",
       "      <td>NaN</td>\n",
       "      <td>NaN</td>\n",
       "      <td>NaN</td>\n",
       "      <td>NaN</td>\n",
       "      <td>NaN</td>\n",
       "      <td>NaN</td>\n",
       "      <td>NaN</td>\n",
       "      <td>1</td>\n",
       "    </tr>\n",
       "    <tr>\n",
       "      <th>24528</th>\n",
       "      <td>16248</td>\n",
       "      <td>29</td>\n",
       "      <td>2383</td>\n",
       "      <td>DX1 DX2 DX3</td>\n",
       "      <td>43</td>\n",
       "      <td>23.330606</td>\n",
       "      <td>0</td>\n",
       "      <td>1</td>\n",
       "      <td>1</td>\n",
       "      <td>NaN</td>\n",
       "      <td>NaN</td>\n",
       "      <td>NaN</td>\n",
       "      <td>NaN</td>\n",
       "      <td>NaN</td>\n",
       "      <td>NaN</td>\n",
       "      <td>NaN</td>\n",
       "      <td>NaN</td>\n",
       "      <td>0</td>\n",
       "    </tr>\n",
       "    <tr>\n",
       "      <th>24549</th>\n",
       "      <td>28165</td>\n",
       "      <td>25</td>\n",
       "      <td>7954</td>\n",
       "      <td>dx2 dx5</td>\n",
       "      <td>8</td>\n",
       "      <td>21.326216</td>\n",
       "      <td>0</td>\n",
       "      <td>0</td>\n",
       "      <td>1</td>\n",
       "      <td>NaN</td>\n",
       "      <td>NaN</td>\n",
       "      <td>NaN</td>\n",
       "      <td>NaN</td>\n",
       "      <td>NaN</td>\n",
       "      <td>NaN</td>\n",
       "      <td>NaN</td>\n",
       "      <td>NaN</td>\n",
       "      <td>1</td>\n",
       "    </tr>\n",
       "    <tr>\n",
       "      <th>24570</th>\n",
       "      <td>28939</td>\n",
       "      <td>11</td>\n",
       "      <td>11262</td>\n",
       "      <td>dx6</td>\n",
       "      <td>0</td>\n",
       "      <td>29.259146</td>\n",
       "      <td>0</td>\n",
       "      <td>0</td>\n",
       "      <td>1</td>\n",
       "      <td>NaN</td>\n",
       "      <td>NaN</td>\n",
       "      <td>NaN</td>\n",
       "      <td>NaN</td>\n",
       "      <td>NaN</td>\n",
       "      <td>NaN</td>\n",
       "      <td>NaN</td>\n",
       "      <td>NaN</td>\n",
       "      <td>1</td>\n",
       "    </tr>\n",
       "    <tr>\n",
       "      <th>24597</th>\n",
       "      <td>510</td>\n",
       "      <td>43</td>\n",
       "      <td>11828</td>\n",
       "      <td>DX2 DX3</td>\n",
       "      <td>13</td>\n",
       "      <td>18.003831</td>\n",
       "      <td>1</td>\n",
       "      <td>0</td>\n",
       "      <td>1</td>\n",
       "      <td>NaN</td>\n",
       "      <td>NaN</td>\n",
       "      <td>NaN</td>\n",
       "      <td>NaN</td>\n",
       "      <td>NaN</td>\n",
       "      <td>NaN</td>\n",
       "      <td>NaN</td>\n",
       "      <td>NaN</td>\n",
       "      <td>0</td>\n",
       "    </tr>\n",
       "    <tr>\n",
       "      <th>24641</th>\n",
       "      <td>11661</td>\n",
       "      <td>31</td>\n",
       "      <td>1874</td>\n",
       "      <td>DX5</td>\n",
       "      <td>23</td>\n",
       "      <td>29.924228</td>\n",
       "      <td>1</td>\n",
       "      <td>0</td>\n",
       "      <td>1</td>\n",
       "      <td>NaN</td>\n",
       "      <td>NaN</td>\n",
       "      <td>NaN</td>\n",
       "      <td>NaN</td>\n",
       "      <td>NaN</td>\n",
       "      <td>NaN</td>\n",
       "      <td>NaN</td>\n",
       "      <td>NaN</td>\n",
       "      <td>0</td>\n",
       "    </tr>\n",
       "    <tr>\n",
       "      <th>24676</th>\n",
       "      <td>29261</td>\n",
       "      <td>18</td>\n",
       "      <td>7320</td>\n",
       "      <td>DX2</td>\n",
       "      <td>26</td>\n",
       "      <td>24.142817</td>\n",
       "      <td>0</td>\n",
       "      <td>0</td>\n",
       "      <td>1</td>\n",
       "      <td>NaN</td>\n",
       "      <td>NaN</td>\n",
       "      <td>NaN</td>\n",
       "      <td>NaN</td>\n",
       "      <td>NaN</td>\n",
       "      <td>NaN</td>\n",
       "      <td>NaN</td>\n",
       "      <td>NaN</td>\n",
       "      <td>1</td>\n",
       "    </tr>\n",
       "    <tr>\n",
       "      <th>24681</th>\n",
       "      <td>2020</td>\n",
       "      <td>11</td>\n",
       "      <td>331</td>\n",
       "      <td>Dx6</td>\n",
       "      <td>34</td>\n",
       "      <td>23.600106</td>\n",
       "      <td>1</td>\n",
       "      <td>1</td>\n",
       "      <td>1</td>\n",
       "      <td>NaN</td>\n",
       "      <td>NaN</td>\n",
       "      <td>NaN</td>\n",
       "      <td>NaN</td>\n",
       "      <td>NaN</td>\n",
       "      <td>NaN</td>\n",
       "      <td>NaN</td>\n",
       "      <td>NaN</td>\n",
       "      <td>1</td>\n",
       "    </tr>\n",
       "    <tr>\n",
       "      <th>24687</th>\n",
       "      <td>23262</td>\n",
       "      <td>3</td>\n",
       "      <td>11262</td>\n",
       "      <td>DX6</td>\n",
       "      <td>0</td>\n",
       "      <td>29.259146</td>\n",
       "      <td>0</td>\n",
       "      <td>0</td>\n",
       "      <td>1</td>\n",
       "      <td>NaN</td>\n",
       "      <td>NaN</td>\n",
       "      <td>NaN</td>\n",
       "      <td>NaN</td>\n",
       "      <td>NaN</td>\n",
       "      <td>NaN</td>\n",
       "      <td>NaN</td>\n",
       "      <td>NaN</td>\n",
       "      <td>1</td>\n",
       "    </tr>\n",
       "    <tr>\n",
       "      <th>24702</th>\n",
       "      <td>30283</td>\n",
       "      <td>13</td>\n",
       "      <td>4932</td>\n",
       "      <td>DX6</td>\n",
       "      <td>51</td>\n",
       "      <td>21.651653</td>\n",
       "      <td>1</td>\n",
       "      <td>0</td>\n",
       "      <td>1</td>\n",
       "      <td>NaN</td>\n",
       "      <td>NaN</td>\n",
       "      <td>NaN</td>\n",
       "      <td>NaN</td>\n",
       "      <td>NaN</td>\n",
       "      <td>NaN</td>\n",
       "      <td>NaN</td>\n",
       "      <td>NaN</td>\n",
       "      <td>1</td>\n",
       "    </tr>\n",
       "    <tr>\n",
       "      <th>24703</th>\n",
       "      <td>25435</td>\n",
       "      <td>22</td>\n",
       "      <td>7707</td>\n",
       "      <td>DX6</td>\n",
       "      <td>51</td>\n",
       "      <td>19.097499</td>\n",
       "      <td>0</td>\n",
       "      <td>0</td>\n",
       "      <td>1</td>\n",
       "      <td>NaN</td>\n",
       "      <td>NaN</td>\n",
       "      <td>NaN</td>\n",
       "      <td>NaN</td>\n",
       "      <td>NaN</td>\n",
       "      <td>NaN</td>\n",
       "      <td>NaN</td>\n",
       "      <td>NaN</td>\n",
       "      <td>1</td>\n",
       "    </tr>\n",
       "    <tr>\n",
       "      <th>24712</th>\n",
       "      <td>30084</td>\n",
       "      <td>48</td>\n",
       "      <td>9333</td>\n",
       "      <td>DX5</td>\n",
       "      <td>44</td>\n",
       "      <td>26.434719</td>\n",
       "      <td>0</td>\n",
       "      <td>1</td>\n",
       "      <td>1</td>\n",
       "      <td>NaN</td>\n",
       "      <td>NaN</td>\n",
       "      <td>NaN</td>\n",
       "      <td>NaN</td>\n",
       "      <td>NaN</td>\n",
       "      <td>NaN</td>\n",
       "      <td>NaN</td>\n",
       "      <td>NaN</td>\n",
       "      <td>1</td>\n",
       "    </tr>\n",
       "    <tr>\n",
       "      <th>24730</th>\n",
       "      <td>11504</td>\n",
       "      <td>46</td>\n",
       "      <td>9039</td>\n",
       "      <td>dx2</td>\n",
       "      <td>55</td>\n",
       "      <td>21.778967</td>\n",
       "      <td>0</td>\n",
       "      <td>0</td>\n",
       "      <td>1</td>\n",
       "      <td>NaN</td>\n",
       "      <td>NaN</td>\n",
       "      <td>NaN</td>\n",
       "      <td>NaN</td>\n",
       "      <td>NaN</td>\n",
       "      <td>NaN</td>\n",
       "      <td>NaN</td>\n",
       "      <td>NaN</td>\n",
       "      <td>1</td>\n",
       "    </tr>\n",
       "    <tr>\n",
       "      <th>24756</th>\n",
       "      <td>4553</td>\n",
       "      <td>10</td>\n",
       "      <td>6496</td>\n",
       "      <td>dx6</td>\n",
       "      <td>52</td>\n",
       "      <td>19.011865</td>\n",
       "      <td>1</td>\n",
       "      <td>0</td>\n",
       "      <td>1</td>\n",
       "      <td>NaN</td>\n",
       "      <td>NaN</td>\n",
       "      <td>NaN</td>\n",
       "      <td>NaN</td>\n",
       "      <td>NaN</td>\n",
       "      <td>NaN</td>\n",
       "      <td>NaN</td>\n",
       "      <td>NaN</td>\n",
       "      <td>1</td>\n",
       "    </tr>\n",
       "    <tr>\n",
       "      <th>24821</th>\n",
       "      <td>22244</td>\n",
       "      <td>28</td>\n",
       "      <td>2602</td>\n",
       "      <td>dx5</td>\n",
       "      <td>4</td>\n",
       "      <td>22.233827</td>\n",
       "      <td>0</td>\n",
       "      <td>0</td>\n",
       "      <td>1</td>\n",
       "      <td>NaN</td>\n",
       "      <td>NaN</td>\n",
       "      <td>NaN</td>\n",
       "      <td>NaN</td>\n",
       "      <td>NaN</td>\n",
       "      <td>NaN</td>\n",
       "      <td>NaN</td>\n",
       "      <td>NaN</td>\n",
       "      <td>1</td>\n",
       "    </tr>\n",
       "    <tr>\n",
       "      <th>24827</th>\n",
       "      <td>2061</td>\n",
       "      <td>33</td>\n",
       "      <td>6422</td>\n",
       "      <td>dx1</td>\n",
       "      <td>31</td>\n",
       "      <td>29.781559</td>\n",
       "      <td>0</td>\n",
       "      <td>0</td>\n",
       "      <td>1</td>\n",
       "      <td>NaN</td>\n",
       "      <td>NaN</td>\n",
       "      <td>NaN</td>\n",
       "      <td>NaN</td>\n",
       "      <td>NaN</td>\n",
       "      <td>NaN</td>\n",
       "      <td>NaN</td>\n",
       "      <td>NaN</td>\n",
       "      <td>1</td>\n",
       "    </tr>\n",
       "    <tr>\n",
       "      <th>24844</th>\n",
       "      <td>13953</td>\n",
       "      <td>43</td>\n",
       "      <td>1948</td>\n",
       "      <td>Dx6</td>\n",
       "      <td>19</td>\n",
       "      <td>21.438580</td>\n",
       "      <td>0</td>\n",
       "      <td>1</td>\n",
       "      <td>1</td>\n",
       "      <td>NaN</td>\n",
       "      <td>NaN</td>\n",
       "      <td>NaN</td>\n",
       "      <td>NaN</td>\n",
       "      <td>NaN</td>\n",
       "      <td>NaN</td>\n",
       "      <td>NaN</td>\n",
       "      <td>NaN</td>\n",
       "      <td>1</td>\n",
       "    </tr>\n",
       "    <tr>\n",
       "      <th>24860</th>\n",
       "      <td>5413</td>\n",
       "      <td>50</td>\n",
       "      <td>10377</td>\n",
       "      <td>DX4</td>\n",
       "      <td>20</td>\n",
       "      <td>23.689249</td>\n",
       "      <td>0</td>\n",
       "      <td>0</td>\n",
       "      <td>1</td>\n",
       "      <td>NaN</td>\n",
       "      <td>NaN</td>\n",
       "      <td>NaN</td>\n",
       "      <td>NaN</td>\n",
       "      <td>NaN</td>\n",
       "      <td>NaN</td>\n",
       "      <td>NaN</td>\n",
       "      <td>NaN</td>\n",
       "      <td>1</td>\n",
       "    </tr>\n",
       "    <tr>\n",
       "      <th>24861</th>\n",
       "      <td>23380</td>\n",
       "      <td>48</td>\n",
       "      <td>5813</td>\n",
       "      <td>Dx6</td>\n",
       "      <td>47</td>\n",
       "      <td>19.851066</td>\n",
       "      <td>0</td>\n",
       "      <td>1</td>\n",
       "      <td>1</td>\n",
       "      <td>NaN</td>\n",
       "      <td>NaN</td>\n",
       "      <td>NaN</td>\n",
       "      <td>NaN</td>\n",
       "      <td>NaN</td>\n",
       "      <td>NaN</td>\n",
       "      <td>NaN</td>\n",
       "      <td>NaN</td>\n",
       "      <td>1</td>\n",
       "    </tr>\n",
       "    <tr>\n",
       "      <th>24931</th>\n",
       "      <td>15738</td>\n",
       "      <td>36</td>\n",
       "      <td>4201</td>\n",
       "      <td>DX6</td>\n",
       "      <td>40</td>\n",
       "      <td>27.811377</td>\n",
       "      <td>0</td>\n",
       "      <td>1</td>\n",
       "      <td>1</td>\n",
       "      <td>NaN</td>\n",
       "      <td>NaN</td>\n",
       "      <td>NaN</td>\n",
       "      <td>NaN</td>\n",
       "      <td>NaN</td>\n",
       "      <td>NaN</td>\n",
       "      <td>NaN</td>\n",
       "      <td>NaN</td>\n",
       "      <td>1</td>\n",
       "    </tr>\n",
       "    <tr>\n",
       "      <th>24935</th>\n",
       "      <td>1557</td>\n",
       "      <td>2</td>\n",
       "      <td>8618</td>\n",
       "      <td>DX3 DX5</td>\n",
       "      <td>23</td>\n",
       "      <td>28.250900</td>\n",
       "      <td>0</td>\n",
       "      <td>1</td>\n",
       "      <td>1</td>\n",
       "      <td>NaN</td>\n",
       "      <td>NaN</td>\n",
       "      <td>NaN</td>\n",
       "      <td>NaN</td>\n",
       "      <td>NaN</td>\n",
       "      <td>NaN</td>\n",
       "      <td>NaN</td>\n",
       "      <td>NaN</td>\n",
       "      <td>1</td>\n",
       "    </tr>\n",
       "    <tr>\n",
       "      <th>24963</th>\n",
       "      <td>10645</td>\n",
       "      <td>46</td>\n",
       "      <td>10108</td>\n",
       "      <td>DX1 DX2</td>\n",
       "      <td>55</td>\n",
       "      <td>18.694524</td>\n",
       "      <td>1</td>\n",
       "      <td>0</td>\n",
       "      <td>1</td>\n",
       "      <td>NaN</td>\n",
       "      <td>NaN</td>\n",
       "      <td>NaN</td>\n",
       "      <td>NaN</td>\n",
       "      <td>NaN</td>\n",
       "      <td>NaN</td>\n",
       "      <td>NaN</td>\n",
       "      <td>NaN</td>\n",
       "      <td>1</td>\n",
       "    </tr>\n",
       "    <tr>\n",
       "      <th>24973</th>\n",
       "      <td>18473</td>\n",
       "      <td>23</td>\n",
       "      <td>4635</td>\n",
       "      <td>DX6</td>\n",
       "      <td>5</td>\n",
       "      <td>25.445119</td>\n",
       "      <td>0</td>\n",
       "      <td>0</td>\n",
       "      <td>1</td>\n",
       "      <td>NaN</td>\n",
       "      <td>NaN</td>\n",
       "      <td>NaN</td>\n",
       "      <td>NaN</td>\n",
       "      <td>NaN</td>\n",
       "      <td>NaN</td>\n",
       "      <td>NaN</td>\n",
       "      <td>NaN</td>\n",
       "      <td>0</td>\n",
       "    </tr>\n",
       "    <tr>\n",
       "      <th>24989</th>\n",
       "      <td>12134</td>\n",
       "      <td>38</td>\n",
       "      <td>3462</td>\n",
       "      <td>Dx6</td>\n",
       "      <td>17</td>\n",
       "      <td>20.096695</td>\n",
       "      <td>0</td>\n",
       "      <td>0</td>\n",
       "      <td>1</td>\n",
       "      <td>NaN</td>\n",
       "      <td>NaN</td>\n",
       "      <td>NaN</td>\n",
       "      <td>NaN</td>\n",
       "      <td>NaN</td>\n",
       "      <td>NaN</td>\n",
       "      <td>NaN</td>\n",
       "      <td>NaN</td>\n",
       "      <td>1</td>\n",
       "    </tr>\n",
       "    <tr>\n",
       "      <th>24999</th>\n",
       "      <td>1351</td>\n",
       "      <td>45</td>\n",
       "      <td>5898</td>\n",
       "      <td>DX4</td>\n",
       "      <td>33</td>\n",
       "      <td>25.748274</td>\n",
       "      <td>1</td>\n",
       "      <td>0</td>\n",
       "      <td>1</td>\n",
       "      <td>NaN</td>\n",
       "      <td>NaN</td>\n",
       "      <td>NaN</td>\n",
       "      <td>NaN</td>\n",
       "      <td>NaN</td>\n",
       "      <td>NaN</td>\n",
       "      <td>NaN</td>\n",
       "      <td>NaN</td>\n",
       "      <td>1</td>\n",
       "    </tr>\n",
       "    <tr>\n",
       "      <th>25036</th>\n",
       "      <td>10914</td>\n",
       "      <td>12</td>\n",
       "      <td>6998</td>\n",
       "      <td>DX6</td>\n",
       "      <td>15</td>\n",
       "      <td>23.335741</td>\n",
       "      <td>0</td>\n",
       "      <td>1</td>\n",
       "      <td>1</td>\n",
       "      <td>NaN</td>\n",
       "      <td>NaN</td>\n",
       "      <td>NaN</td>\n",
       "      <td>NaN</td>\n",
       "      <td>NaN</td>\n",
       "      <td>NaN</td>\n",
       "      <td>NaN</td>\n",
       "      <td>NaN</td>\n",
       "      <td>1</td>\n",
       "    </tr>\n",
       "  </tbody>\n",
       "</table>\n",
       "<p>1364 rows × 18 columns</p>\n",
       "</div>"
      ],
      "text/plain": [
       "       ID_Patient_Care_Situation  Diagnosed_Condition  Patient_ID  \\\n",
       "45                         29462                   19        3231   \n",
       "61                          5332                   46        3161   \n",
       "76                         19576                   35        9364   \n",
       "86                         32024                   31        3154   \n",
       "133                        10359                   52       10544   \n",
       "138                        24884                   14        6071   \n",
       "150                         9785                    1        8401   \n",
       "156                          582                    1        2202   \n",
       "217                        17548                   52        2863   \n",
       "230                         3757                   49        9391   \n",
       "241                         6230                   21       10288   \n",
       "245                        24465                   36        7236   \n",
       "275                        20499                   15        2080   \n",
       "300                        29220                   51        3304   \n",
       "303                        23506                   37       11319   \n",
       "307                        21930                   10        8999   \n",
       "319                        20397                   11        9996   \n",
       "321                        13883                   15        9459   \n",
       "346                         8643                   49       11861   \n",
       "351                        22516                   49         441   \n",
       "358                         9615                   21        5874   \n",
       "366                        11700                   44        6145   \n",
       "390                        14311                   13       10092   \n",
       "467                        22617                   25        4227   \n",
       "473                        30232                   47        5239   \n",
       "490                        26137                   15        6305   \n",
       "495                        31824                   19        8297   \n",
       "502                        19662                   18        1382   \n",
       "545                        28842                   51        5220   \n",
       "560                        25455                   12        4963   \n",
       "...                          ...                  ...         ...   \n",
       "24381                      11575                   11        6234   \n",
       "24396                      15219                   10        5683   \n",
       "24400                      31052                   30        7996   \n",
       "24413                      16131                   45       10439   \n",
       "24439                      32252                   46        1712   \n",
       "24528                      16248                   29        2383   \n",
       "24549                      28165                   25        7954   \n",
       "24570                      28939                   11       11262   \n",
       "24597                        510                   43       11828   \n",
       "24641                      11661                   31        1874   \n",
       "24676                      29261                   18        7320   \n",
       "24681                       2020                   11         331   \n",
       "24687                      23262                    3       11262   \n",
       "24702                      30283                   13        4932   \n",
       "24703                      25435                   22        7707   \n",
       "24712                      30084                   48        9333   \n",
       "24730                      11504                   46        9039   \n",
       "24756                       4553                   10        6496   \n",
       "24821                      22244                   28        2602   \n",
       "24827                       2061                   33        6422   \n",
       "24844                      13953                   43        1948   \n",
       "24860                       5413                   50       10377   \n",
       "24861                      23380                   48        5813   \n",
       "24931                      15738                   36        4201   \n",
       "24935                       1557                    2        8618   \n",
       "24963                      10645                   46       10108   \n",
       "24973                      18473                   23        4635   \n",
       "24989                      12134                   38        3462   \n",
       "24999                       1351                   45        5898   \n",
       "25036                      10914                   12        6998   \n",
       "\n",
       "      Treated_with_drugs  Patient_Age  Patient_Body_Mass_Index  \\\n",
       "45                   DX6           50                27.994080   \n",
       "61               DX2 DX5           18                21.713657   \n",
       "76                   DX6           18                20.125493   \n",
       "86              DX3 DX5            16                27.182629   \n",
       "133                  Dx6           27                20.167178   \n",
       "138              DX1 DX3           60                23.967078   \n",
       "150                  DX6           49                19.433364   \n",
       "156                  DX6            6                22.867910   \n",
       "217                  dx4           42                19.781170   \n",
       "230                  DX6            5                28.476292   \n",
       "241                 DX6            57                25.423953   \n",
       "245                  DX5           36                23.279862   \n",
       "275                 DX6            31                24.313309   \n",
       "300                 Dx2            53                24.485866   \n",
       "303                  DX6           63                19.491071   \n",
       "307                 DX1            65                23.156971   \n",
       "319                  DX6           35                19.378991   \n",
       "321                 DX6            20                27.161977   \n",
       "346              dx2 dx4           42                19.811964   \n",
       "351                 DX6            49                21.923367   \n",
       "358          DX1 DX3 DX5           49                26.645434   \n",
       "366                  DX4           34                28.354121   \n",
       "390                 DX2            13                25.485672   \n",
       "467                  DX3           31                28.538678   \n",
       "473                 DX4            50                21.072701   \n",
       "490                  DX6           25                29.517841   \n",
       "495                 DX6            31                29.120532   \n",
       "502                 dx3             4                24.724197   \n",
       "545              DX1 DX4           58                29.189009   \n",
       "560                 DX5             4                22.796444   \n",
       "...                  ...          ...                      ...   \n",
       "24381           dx2 dx3            53                27.190083   \n",
       "24396               DX2            57                29.254754   \n",
       "24400                DX3            0                22.325360   \n",
       "24413       DX2 DX3 DX4             9                20.486860   \n",
       "24439            DX1 DX4            7                24.543201   \n",
       "24528        DX1 DX2 DX3           43                23.330606   \n",
       "24549           dx2 dx5             8                21.326216   \n",
       "24570                dx6            0                29.259146   \n",
       "24597           DX2 DX3            13                18.003831   \n",
       "24641                DX5           23                29.924228   \n",
       "24676               DX2            26                24.142817   \n",
       "24681                Dx6           34                23.600106   \n",
       "24687                DX6            0                29.259146   \n",
       "24702               DX6            51                21.651653   \n",
       "24703               DX6            51                19.097499   \n",
       "24712                DX5           44                26.434719   \n",
       "24730               dx2            55                21.778967   \n",
       "24756               dx6            52                19.011865   \n",
       "24821               dx5             4                22.233827   \n",
       "24827                dx1           31                29.781559   \n",
       "24844                Dx6           19                21.438580   \n",
       "24860                DX4           20                23.689249   \n",
       "24861               Dx6            47                19.851066   \n",
       "24931                DX6           40                27.811377   \n",
       "24935            DX3 DX5           23                28.250900   \n",
       "24963           DX1 DX2            55                18.694524   \n",
       "24973                DX6            5                25.445119   \n",
       "24989                Dx6           17                20.096695   \n",
       "24999               DX4            33                25.748274   \n",
       "25036               DX6            15                23.335741   \n",
       "\n",
       "       Patient_Smoker  Patient_Rural_Urban  Patient_mental_condition   A   B  \\\n",
       "45                  0                    0                         1 NaN NaN   \n",
       "61                  0                    1                         1 NaN NaN   \n",
       "76                  0                    0                         1 NaN NaN   \n",
       "86                  1                    0                         1 NaN NaN   \n",
       "133                 1                    0                         1 NaN NaN   \n",
       "138                 0                    0                         1 NaN NaN   \n",
       "150                 0                    0                         1 NaN NaN   \n",
       "156                 0                    1                         1 NaN NaN   \n",
       "217                 0                    1                         1 NaN NaN   \n",
       "230                 0                    0                         1 NaN NaN   \n",
       "241                 0                    0                         1 NaN NaN   \n",
       "245                 0                    0                         1 NaN NaN   \n",
       "275                 1                    1                         1 NaN NaN   \n",
       "300                 0                    0                         1 NaN NaN   \n",
       "303                 0                    0                         1 NaN NaN   \n",
       "307                 0                    0                         1 NaN NaN   \n",
       "319                 1                    1                         1 NaN NaN   \n",
       "321                 1                    1                         1 NaN NaN   \n",
       "346                 0                    1                         1 NaN NaN   \n",
       "351                 0                    0                         1 NaN NaN   \n",
       "358                 1                    0                         1 NaN NaN   \n",
       "366                 0                    1                         1 NaN NaN   \n",
       "390                 1                    1                         1 NaN NaN   \n",
       "467                 0                    0                         1 NaN NaN   \n",
       "473                 0                    1                         1 NaN NaN   \n",
       "490                 1                    0                         1 NaN NaN   \n",
       "495                 1                    0                         1 NaN NaN   \n",
       "502                 0                    0                         1 NaN NaN   \n",
       "545                 0                    0                         1 NaN NaN   \n",
       "560                 0                    0                         1 NaN NaN   \n",
       "...               ...                  ...                       ...  ..  ..   \n",
       "24381               1                    0                         1 NaN NaN   \n",
       "24396               0                    1                         1 NaN NaN   \n",
       "24400               0                    0                         1 NaN NaN   \n",
       "24413               0                    1                         1 NaN NaN   \n",
       "24439               0                    1                         1 NaN NaN   \n",
       "24528               0                    1                         1 NaN NaN   \n",
       "24549               0                    0                         1 NaN NaN   \n",
       "24570               0                    0                         1 NaN NaN   \n",
       "24597               1                    0                         1 NaN NaN   \n",
       "24641               1                    0                         1 NaN NaN   \n",
       "24676               0                    0                         1 NaN NaN   \n",
       "24681               1                    1                         1 NaN NaN   \n",
       "24687               0                    0                         1 NaN NaN   \n",
       "24702               1                    0                         1 NaN NaN   \n",
       "24703               0                    0                         1 NaN NaN   \n",
       "24712               0                    1                         1 NaN NaN   \n",
       "24730               0                    0                         1 NaN NaN   \n",
       "24756               1                    0                         1 NaN NaN   \n",
       "24821               0                    0                         1 NaN NaN   \n",
       "24827               0                    0                         1 NaN NaN   \n",
       "24844               0                    1                         1 NaN NaN   \n",
       "24860               0                    0                         1 NaN NaN   \n",
       "24861               0                    1                         1 NaN NaN   \n",
       "24931               0                    1                         1 NaN NaN   \n",
       "24935               0                    1                         1 NaN NaN   \n",
       "24963               1                    0                         1 NaN NaN   \n",
       "24973               0                    0                         1 NaN NaN   \n",
       "24989               0                    0                         1 NaN NaN   \n",
       "24999               1                    0                         1 NaN NaN   \n",
       "25036               0                    1                         1 NaN NaN   \n",
       "\n",
       "        C   D   E   F   Z  Number_of_prev_cond  Survived_1_year  \n",
       "45    NaN NaN NaN NaN NaN                  NaN                1  \n",
       "61    NaN NaN NaN NaN NaN                  NaN                1  \n",
       "76    NaN NaN NaN NaN NaN                  NaN                1  \n",
       "86    NaN NaN NaN NaN NaN                  NaN                0  \n",
       "133   NaN NaN NaN NaN NaN                  NaN                1  \n",
       "138   NaN NaN NaN NaN NaN                  NaN                1  \n",
       "150   NaN NaN NaN NaN NaN                  NaN                1  \n",
       "156   NaN NaN NaN NaN NaN                  NaN                1  \n",
       "217   NaN NaN NaN NaN NaN                  NaN                1  \n",
       "230   NaN NaN NaN NaN NaN                  NaN                0  \n",
       "241   NaN NaN NaN NaN NaN                  NaN                1  \n",
       "245   NaN NaN NaN NaN NaN                  NaN                1  \n",
       "275   NaN NaN NaN NaN NaN                  NaN                1  \n",
       "300   NaN NaN NaN NaN NaN                  NaN                1  \n",
       "303   NaN NaN NaN NaN NaN                  NaN                1  \n",
       "307   NaN NaN NaN NaN NaN                  NaN                1  \n",
       "319   NaN NaN NaN NaN NaN                  NaN                1  \n",
       "321   NaN NaN NaN NaN NaN                  NaN                0  \n",
       "346   NaN NaN NaN NaN NaN                  NaN                1  \n",
       "351   NaN NaN NaN NaN NaN                  NaN                1  \n",
       "358   NaN NaN NaN NaN NaN                  NaN                1  \n",
       "366   NaN NaN NaN NaN NaN                  NaN                1  \n",
       "390   NaN NaN NaN NaN NaN                  NaN                1  \n",
       "467   NaN NaN NaN NaN NaN                  NaN                1  \n",
       "473   NaN NaN NaN NaN NaN                  NaN                1  \n",
       "490   NaN NaN NaN NaN NaN                  NaN                0  \n",
       "495   NaN NaN NaN NaN NaN                  NaN                0  \n",
       "502   NaN NaN NaN NaN NaN                  NaN                1  \n",
       "545   NaN NaN NaN NaN NaN                  NaN                1  \n",
       "560   NaN NaN NaN NaN NaN                  NaN                1  \n",
       "...    ..  ..  ..  ..  ..                  ...              ...  \n",
       "24381 NaN NaN NaN NaN NaN                  NaN                0  \n",
       "24396 NaN NaN NaN NaN NaN                  NaN                1  \n",
       "24400 NaN NaN NaN NaN NaN                  NaN                1  \n",
       "24413 NaN NaN NaN NaN NaN                  NaN                1  \n",
       "24439 NaN NaN NaN NaN NaN                  NaN                1  \n",
       "24528 NaN NaN NaN NaN NaN                  NaN                0  \n",
       "24549 NaN NaN NaN NaN NaN                  NaN                1  \n",
       "24570 NaN NaN NaN NaN NaN                  NaN                1  \n",
       "24597 NaN NaN NaN NaN NaN                  NaN                0  \n",
       "24641 NaN NaN NaN NaN NaN                  NaN                0  \n",
       "24676 NaN NaN NaN NaN NaN                  NaN                1  \n",
       "24681 NaN NaN NaN NaN NaN                  NaN                1  \n",
       "24687 NaN NaN NaN NaN NaN                  NaN                1  \n",
       "24702 NaN NaN NaN NaN NaN                  NaN                1  \n",
       "24703 NaN NaN NaN NaN NaN                  NaN                1  \n",
       "24712 NaN NaN NaN NaN NaN                  NaN                1  \n",
       "24730 NaN NaN NaN NaN NaN                  NaN                1  \n",
       "24756 NaN NaN NaN NaN NaN                  NaN                1  \n",
       "24821 NaN NaN NaN NaN NaN                  NaN                1  \n",
       "24827 NaN NaN NaN NaN NaN                  NaN                1  \n",
       "24844 NaN NaN NaN NaN NaN                  NaN                1  \n",
       "24860 NaN NaN NaN NaN NaN                  NaN                1  \n",
       "24861 NaN NaN NaN NaN NaN                  NaN                1  \n",
       "24931 NaN NaN NaN NaN NaN                  NaN                1  \n",
       "24935 NaN NaN NaN NaN NaN                  NaN                1  \n",
       "24963 NaN NaN NaN NaN NaN                  NaN                1  \n",
       "24973 NaN NaN NaN NaN NaN                  NaN                0  \n",
       "24989 NaN NaN NaN NaN NaN                  NaN                1  \n",
       "24999 NaN NaN NaN NaN NaN                  NaN                1  \n",
       "25036 NaN NaN NaN NaN NaN                  NaN                1  \n",
       "\n",
       "[1364 rows x 18 columns]"
      ]
     },
     "execution_count": 26,
     "metadata": {},
     "output_type": "execute_result"
    }
   ],
   "source": [
    "pharma_data[pharma_data.isnull().any(axis=1)]"
   ]
  },
  {
   "cell_type": "code",
   "execution_count": 27,
   "metadata": {
    "colab": {
     "base_uri": "https://localhost:8080/",
     "height": 173
    },
    "colab_type": "code",
    "id": "xJQTcPtgGK2q",
    "outputId": "a0639c6a-df43-4a64-bce0-96f414ebe3ab"
   },
   "outputs": [
    {
     "name": "stdout",
     "output_type": "stream",
     "text": [
      "Before filling null values \n",
      " 1.0    21211\n",
      "0.0     2512\n",
      "Name: A, dtype: int64 \n",
      "\n",
      "After filling null values \n",
      " 1.0    22394\n",
      "0.0     2685\n",
      "Name: A, dtype: int64\n"
     ]
    }
   ],
   "source": [
    "print(\"Before filling null values \\n\", pharma_data['A'].value_counts(), \"\\n\")\n",
    "pharma_data['A'] = pharma_data['A'].fillna(method=\"ffill\")\n",
    "print(\"After filling null values \\n\", pharma_data['A'].value_counts())"
   ]
  },
  {
   "cell_type": "code",
   "execution_count": 28,
   "metadata": {
    "colab": {
     "base_uri": "https://localhost:8080/",
     "height": 173
    },
    "colab_type": "code",
    "id": "jmvcOoQOH4hz",
    "outputId": "f41c7e1d-134f-4200-fb0f-652c5f25d52c"
   },
   "outputs": [
    {
     "name": "stdout",
     "output_type": "stream",
     "text": [
      "Before filling null values \n",
      " 0.0    20496\n",
      "1.0     3227\n",
      "Name: B, dtype: int64 \n",
      "\n",
      "After filling null values \n",
      " 0.0    21671\n",
      "1.0     3408\n",
      "Name: B, dtype: int64\n"
     ]
    }
   ],
   "source": [
    "print(\"Before filling null values \\n\", pharma_data['B'].value_counts(), \"\\n\")\n",
    "pharma_data['B'] = pharma_data['B'].fillna(method=\"ffill\")\n",
    "print(\"After filling null values \\n\", pharma_data['B'].value_counts())"
   ]
  },
  {
   "cell_type": "code",
   "execution_count": 29,
   "metadata": {
    "colab": {
     "base_uri": "https://localhost:8080/",
     "height": 173
    },
    "colab_type": "code",
    "id": "t33zwLHkIGlz",
    "outputId": "768fe755-86b7-4c59-8f11-bb8be6ffe777"
   },
   "outputs": [
    {
     "name": "stdout",
     "output_type": "stream",
     "text": [
      "Before filling null values \n",
      " 0.0    19372\n",
      "1.0     4351\n",
      "Name: C, dtype: int64 \n",
      "\n",
      "After filling null values \n",
      " 0.0    20465\n",
      "1.0     4614\n",
      "Name: C, dtype: int64\n"
     ]
    }
   ],
   "source": [
    "print(\"Before filling null values \\n\", pharma_data['C'].value_counts(), \"\\n\")\n",
    "pharma_data['C'] = pharma_data['C'].fillna(method=\"ffill\")\n",
    "print(\"After filling null values \\n\", pharma_data['C'].value_counts())"
   ]
  },
  {
   "cell_type": "code",
   "execution_count": 30,
   "metadata": {
    "colab": {
     "base_uri": "https://localhost:8080/",
     "height": 173
    },
    "colab_type": "code",
    "id": "sWRaHU74IKli",
    "outputId": "54cd2f65-d664-4663-9988-0d3e1d7bfc50"
   },
   "outputs": [
    {
     "name": "stdout",
     "output_type": "stream",
     "text": [
      "Before filling null values \n",
      " 0.0    21737\n",
      "1.0     1986\n",
      "Name: D, dtype: int64 \n",
      "\n",
      "After filling null values \n",
      " 0.0    22969\n",
      "1.0     2110\n",
      "Name: D, dtype: int64\n"
     ]
    }
   ],
   "source": [
    "print(\"Before filling null values \\n\", pharma_data['D'].value_counts(), \"\\n\")\n",
    "pharma_data['D'] = pharma_data['D'].fillna(method=\"ffill\")\n",
    "print(\"After filling null values \\n\", pharma_data['D'].value_counts())"
   ]
  },
  {
   "cell_type": "code",
   "execution_count": 31,
   "metadata": {
    "colab": {
     "base_uri": "https://localhost:8080/",
     "height": 173
    },
    "colab_type": "code",
    "id": "sAEkDIrJIOd-",
    "outputId": "90094cbe-0d38-4918-9f39-44ca7240c511"
   },
   "outputs": [
    {
     "name": "stdout",
     "output_type": "stream",
     "text": [
      "Before filling null values \n",
      " 0.0    14323\n",
      "1.0     9400\n",
      "Name: E, dtype: int64 \n",
      "\n",
      "After filling null values \n",
      " 0.0    15131\n",
      "1.0     9948\n",
      "Name: E, dtype: int64\n"
     ]
    }
   ],
   "source": [
    "print(\"Before filling null values \\n\", pharma_data['E'].value_counts(), \"\\n\")\n",
    "pharma_data['E'] = pharma_data['E'].fillna(method=\"ffill\")\n",
    "print(\"After filling null values \\n\", pharma_data['E'].value_counts())"
   ]
  },
  {
   "cell_type": "code",
   "execution_count": 32,
   "metadata": {
    "colab": {
     "base_uri": "https://localhost:8080/",
     "height": 173
    },
    "colab_type": "code",
    "id": "I_9RTh0lIUNq",
    "outputId": "a8a0ca8a-d7a7-4d7f-b58a-d00208f42ce8"
   },
   "outputs": [
    {
     "name": "stdout",
     "output_type": "stream",
     "text": [
      "Before filling null values \n",
      " 0.0    22432\n",
      "1.0     1291\n",
      "Name: F, dtype: int64 \n",
      "\n",
      "After filling null values \n",
      " 0.0    23706\n",
      "1.0     1373\n",
      "Name: F, dtype: int64\n"
     ]
    }
   ],
   "source": [
    "print(\"Before filling null values \\n\", pharma_data['F'].value_counts(), \"\\n\")\n",
    "pharma_data['F'] = pharma_data['F'].fillna(method=\"ffill\")\n",
    "print(\"After filling null values \\n\", pharma_data['F'].value_counts())"
   ]
  },
  {
   "cell_type": "code",
   "execution_count": 33,
   "metadata": {
    "colab": {
     "base_uri": "https://localhost:8080/",
     "height": 173
    },
    "colab_type": "code",
    "id": "DJ_Myqm5IczF",
    "outputId": "7979ee41-97a6-4c31-a281-7ec0c9862ef7"
   },
   "outputs": [
    {
     "name": "stdout",
     "output_type": "stream",
     "text": [
      "Before filling null values \n",
      " 0.0    23715\n",
      "1.0        8\n",
      "Name: Z, dtype: int64 \n",
      "\n",
      "After filling null values \n",
      " 0.0    25069\n",
      "1.0       10\n",
      "Name: Z, dtype: int64\n"
     ]
    }
   ],
   "source": [
    "print(\"Before filling null values \\n\", pharma_data['Z'].value_counts(), \"\\n\")\n",
    "pharma_data['Z'] = pharma_data['Z'].fillna(method=\"ffill\")\n",
    "print(\"After filling null values \\n\", pharma_data['Z'].value_counts())"
   ]
  },
  {
   "cell_type": "code",
   "execution_count": 34,
   "metadata": {
    "colab": {},
    "colab_type": "code",
    "id": "siIgKirHS3g_"
   },
   "outputs": [],
   "source": [
    "pharma_data['Number_of_prev_cond'] = pharma_data[['A', 'B', 'C', 'D', 'E', 'F', 'Z']].sum(axis=1)"
   ]
  },
  {
   "cell_type": "code",
   "execution_count": 35,
   "metadata": {
    "colab": {
     "base_uri": "https://localhost:8080/",
     "height": 280
    },
    "colab_type": "code",
    "id": "3I16YYOHq-Dy",
    "outputId": "98ad3805-7314-4c01-bf5b-8c66a7a554fb"
   },
   "outputs": [
    {
     "data": {
      "image/png": "[encoded data removed]",
      "text/plain": [
       "<Figure size 432x288 with 1 Axes>"
      ]
     },
     "metadata": {
      "needs_background": "light"
     },
     "output_type": "display_data"
    }
   ],
   "source": [
    "sns.countplot(pharma_data['Number_of_prev_cond'])\n",
    "plt.show()"
   ]
  },
  {
   "cell_type": "code",
   "execution_count": 36,
   "metadata": {
    "colab": {
     "base_uri": "https://localhost:8080/",
     "height": 121
    },
    "colab_type": "code",
    "id": "xBCkUnLbrO93",
    "outputId": "ed4b4797-b147-4036-b4b0-5cedcca34d8e"
   },
   "outputs": [
    {
     "data": {
      "text/plain": [
       "1.0    10798\n",
       "2.0    10311\n",
       "3.0     3484\n",
       "4.0      445\n",
       "5.0       41\n",
       "Name: Number_of_prev_cond, dtype: int64"
      ]
     },
     "execution_count": 36,
     "metadata": {},
     "output_type": "execute_result"
    }
   ],
   "source": [
    "pharma_data['Number_of_prev_cond'].value_counts()"
   ]
  },
  {
   "cell_type": "markdown",
   "metadata": {
    "colab_type": "text",
    "id": "RcsaNZuQrYxx"
   },
   "source": [
    "Majority of the patients have had at least 1 or 2 conditions in the past"
   ]
  },
  {
   "cell_type": "code",
   "execution_count": 37,
   "metadata": {
    "colab": {},
    "colab_type": "code",
    "id": "WfIZudqy9EMc"
   },
   "outputs": [],
   "source": [
    "pharma_data['Treated_with_drugs'] = pharma_data['Treated_with_drugs'].str.upper()  #change the values in this column to upppercase\n",
    "pharma_drug_dummies = pharma_data['Treated_with_drugs'].str.get_dummies(sep=' ')   #create a dummy dataframe for this column"
   ]
  },
  {
   "cell_type": "code",
   "execution_count": 38,
   "metadata": {
    "colab": {
     "base_uri": "https://localhost:8080/",
     "height": 206
    },
    "colab_type": "code",
    "id": "9LTSI7-xZqj9",
    "outputId": "fc86f66c-fe22-4e6c-d51e-17f74c1d8193"
   },
   "outputs": [
    {
     "data": {
      "text/html": [
       "<div>\n",
       "<style scoped>\n",
       "    .dataframe tbody tr th:only-of-type {\n",
       "        vertical-align: middle;\n",
       "    }\n",
       "\n",
       "    .dataframe tbody tr th {\n",
       "        vertical-align: top;\n",
       "    }\n",
       "\n",
       "    .dataframe thead th {\n",
       "        text-align: right;\n",
       "    }\n",
       "</style>\n",
       "<table border=\"1\" class=\"dataframe\">\n",
       "  <thead>\n",
       "    <tr style=\"text-align: right;\">\n",
       "      <th></th>\n",
       "      <th>DX1</th>\n",
       "      <th>DX2</th>\n",
       "      <th>DX3</th>\n",
       "      <th>DX4</th>\n",
       "      <th>DX5</th>\n",
       "      <th>DX6</th>\n",
       "    </tr>\n",
       "  </thead>\n",
       "  <tbody>\n",
       "    <tr>\n",
       "      <th>0</th>\n",
       "      <td>0</td>\n",
       "      <td>1</td>\n",
       "      <td>0</td>\n",
       "      <td>0</td>\n",
       "      <td>0</td>\n",
       "      <td>0</td>\n",
       "    </tr>\n",
       "    <tr>\n",
       "      <th>1</th>\n",
       "      <td>0</td>\n",
       "      <td>0</td>\n",
       "      <td>0</td>\n",
       "      <td>0</td>\n",
       "      <td>0</td>\n",
       "      <td>1</td>\n",
       "    </tr>\n",
       "    <tr>\n",
       "      <th>2</th>\n",
       "      <td>0</td>\n",
       "      <td>0</td>\n",
       "      <td>0</td>\n",
       "      <td>0</td>\n",
       "      <td>0</td>\n",
       "      <td>1</td>\n",
       "    </tr>\n",
       "    <tr>\n",
       "      <th>3</th>\n",
       "      <td>0</td>\n",
       "      <td>0</td>\n",
       "      <td>0</td>\n",
       "      <td>0</td>\n",
       "      <td>0</td>\n",
       "      <td>1</td>\n",
       "    </tr>\n",
       "    <tr>\n",
       "      <th>4</th>\n",
       "      <td>1</td>\n",
       "      <td>0</td>\n",
       "      <td>0</td>\n",
       "      <td>0</td>\n",
       "      <td>0</td>\n",
       "      <td>0</td>\n",
       "    </tr>\n",
       "  </tbody>\n",
       "</table>\n",
       "</div>"
      ],
      "text/plain": [
       "   DX1  DX2  DX3  DX4  DX5  DX6\n",
       "0    0    1    0    0    0    0\n",
       "1    0    0    0    0    0    1\n",
       "2    0    0    0    0    0    1\n",
       "3    0    0    0    0    0    1\n",
       "4    1    0    0    0    0    0"
      ]
     },
     "execution_count": 38,
     "metadata": {},
     "output_type": "execute_result"
    }
   ],
   "source": [
    "pharma_drug_dummies.head()"
   ]
  },
  {
   "cell_type": "code",
   "execution_count": 39,
   "metadata": {
    "colab": {
     "base_uri": "https://localhost:8080/",
     "height": 279
    },
    "colab_type": "code",
    "id": "y5IywoH4vmsc",
    "outputId": "bad8351b-ac76-4b01-8c48-93ee06a33d4a"
   },
   "outputs": [
    {
     "data": {
      "image/png": "[encoded data removed]",
      "text/plain": [
       "<Figure size 432x288 with 1 Axes>"
      ]
     },
     "metadata": {
      "needs_background": "light"
     },
     "output_type": "display_data"
    }
   ],
   "source": [
    "sns.countplot(pharma_drug_dummies['DX1'])\n",
    "plt.show()"
   ]
  },
  {
   "cell_type": "code",
   "execution_count": 40,
   "metadata": {
    "colab": {
     "base_uri": "https://localhost:8080/",
     "height": 279
    },
    "colab_type": "code",
    "id": "9SKWwI2NwAGC",
    "outputId": "04379824-64c7-489d-9804-b54596c336bc"
   },
   "outputs": [
    {
     "data": {
      "image/png": "[encoded data removed]",
      "text/plain": [
       "<Figure size 432x288 with 1 Axes>"
      ]
     },
     "metadata": {
      "needs_background": "light"
     },
     "output_type": "display_data"
    }
   ],
   "source": [
    "sns.countplot(pharma_drug_dummies['DX2'])\n",
    "plt.show()"
   ]
  },
  {
   "cell_type": "code",
   "execution_count": 41,
   "metadata": {
    "colab": {
     "base_uri": "https://localhost:8080/",
     "height": 279
    },
    "colab_type": "code",
    "id": "Hoj_na6swFDe",
    "outputId": "5df0d02e-100a-45f8-d0cd-01c41bf818e3"
   },
   "outputs": [
    {
     "data": {
      "image/png": "[encoded data removed]",
      "text/plain": [
       "<Figure size 432x288 with 1 Axes>"
      ]
     },
     "metadata": {
      "needs_background": "light"
     },
     "output_type": "display_data"
    }
   ],
   "source": [
    "sns.countplot(pharma_drug_dummies['DX3'])\n",
    "plt.show()"
   ]
  },
  {
   "cell_type": "code",
   "execution_count": 42,
   "metadata": {
    "colab": {
     "base_uri": "https://localhost:8080/",
     "height": 279
    },
    "colab_type": "code",
    "id": "NiQWMfD8wIam",
    "outputId": "7ec67916-79b7-4208-b867-4a3cbd0c044d"
   },
   "outputs": [
    {
     "data": {
      "image/png": "[encoded data removed]",
      "text/plain": [
       "<Figure size 432x288 with 1 Axes>"
      ]
     },
     "metadata": {
      "needs_background": "light"
     },
     "output_type": "display_data"
    }
   ],
   "source": [
    "sns.countplot(pharma_drug_dummies['DX4'])\n",
    "plt.show()"
   ]
  },
  {
   "cell_type": "code",
   "execution_count": 43,
   "metadata": {
    "colab": {
     "base_uri": "https://localhost:8080/",
     "height": 279
    },
    "colab_type": "code",
    "id": "gCsp3HFFwLfx",
    "outputId": "bb73ca99-f7f2-4b60-cfa7-72fae65135e2"
   },
   "outputs": [
    {
     "data": {
      "image/png": "[encoded data removed]",
      "text/plain": [
       "<Figure size 432x288 with 1 Axes>"
      ]
     },
     "metadata": {
      "needs_background": "light"
     },
     "output_type": "display_data"
    }
   ],
   "source": [
    "sns.countplot(pharma_drug_dummies['DX5'])\n",
    "plt.show()"
   ]
  },
  {
   "cell_type": "code",
   "execution_count": 44,
   "metadata": {
    "colab": {
     "base_uri": "https://localhost:8080/",
     "height": 279
    },
    "colab_type": "code",
    "id": "WaLYn5K_wRag",
    "outputId": "de484cb3-d2bd-4f19-ef7f-2130ce64aeb4"
   },
   "outputs": [
    {
     "data": {
      "image/png": "[encoded data removed]",
      "text/plain": [
       "<Figure size 432x288 with 1 Axes>"
      ]
     },
     "metadata": {
      "needs_background": "light"
     },
     "output_type": "display_data"
    }
   ],
   "source": [
    "sns.countplot(pharma_drug_dummies['DX6'])\n",
    "plt.show()"
   ]
  },
  {
   "cell_type": "markdown",
   "metadata": {
    "colab_type": "text",
    "id": "J-cH_NM8wWrh"
   },
   "source": [
    "In the above 6 plots, 0 indicates that a patient did not use the corresponding drug while 1 indicates that the patient used the drug.\n",
    "\n",
    " It is observed that most patients used DX6 drug compared to the other drugs, which likely indicates that the use of DX6 drug positively influences the survival of a patient."
   ]
  },
  {
   "cell_type": "code",
   "execution_count": 45,
   "metadata": {
    "colab": {},
    "colab_type": "code",
    "id": "9-YgtAs2hp-0"
   },
   "outputs": [],
   "source": [
    "pharma_data = pd.concat([pharma_data, pharma_drug_dummies], axis=1)               #concatenate the dummy dataframe with the original dataframe"
   ]
  },
  {
   "cell_type": "code",
   "execution_count": 46,
   "metadata": {
    "colab": {
     "base_uri": "https://localhost:8080/",
     "height": 451
    },
    "colab_type": "code",
    "id": "7f5HnygGPA1W",
    "outputId": "7dd9dae7-4a14-49f4-aa75-060ff2394909"
   },
   "outputs": [
    {
     "data": {
      "text/plain": [
       "ID_Patient_Care_Situation    0\n",
       "Diagnosed_Condition          0\n",
       "Patient_ID                   0\n",
       "Treated_with_drugs           8\n",
       "Patient_Age                  0\n",
       "Patient_Body_Mass_Index      0\n",
       "Patient_Smoker               0\n",
       "Patient_Rural_Urban          0\n",
       "Patient_mental_condition     0\n",
       "A                            0\n",
       "B                            0\n",
       "C                            0\n",
       "D                            0\n",
       "E                            0\n",
       "F                            0\n",
       "Z                            0\n",
       "Number_of_prev_cond          0\n",
       "Survived_1_year              0\n",
       "DX1                          0\n",
       "DX2                          0\n",
       "DX3                          0\n",
       "DX4                          0\n",
       "DX5                          0\n",
       "DX6                          0\n",
       "dtype: int64"
      ]
     },
     "execution_count": 46,
     "metadata": {},
     "output_type": "execute_result"
    }
   ],
   "source": [
    "pharma_data.isnull().sum()"
   ]
  },
  {
   "cell_type": "code",
   "execution_count": 47,
   "metadata": {
    "colab": {},
    "colab_type": "code",
    "id": "kTHkWxlGVieV"
   },
   "outputs": [],
   "source": [
    "pharma_data.drop(['Treated_with_drugs', 'ID_Patient_Care_Situation', 'Patient_ID'], axis=1, inplace=True)"
   ]
  },
  {
   "cell_type": "code",
   "execution_count": 48,
   "metadata": {
    "colab": {
     "base_uri": "https://localhost:8080/",
     "height": 226
    },
    "colab_type": "code",
    "id": "wiOxBcnVPCSO",
    "outputId": "d719d101-cabd-4c8f-ec9c-5881a144fc10"
   },
   "outputs": [
    {
     "data": {
      "text/html": [
       "<div>\n",
       "<style scoped>\n",
       "    .dataframe tbody tr th:only-of-type {\n",
       "        vertical-align: middle;\n",
       "    }\n",
       "\n",
       "    .dataframe tbody tr th {\n",
       "        vertical-align: top;\n",
       "    }\n",
       "\n",
       "    .dataframe thead th {\n",
       "        text-align: right;\n",
       "    }\n",
       "</style>\n",
       "<table border=\"1\" class=\"dataframe\">\n",
       "  <thead>\n",
       "    <tr style=\"text-align: right;\">\n",
       "      <th></th>\n",
       "      <th>Diagnosed_Condition</th>\n",
       "      <th>Patient_Age</th>\n",
       "      <th>Patient_Body_Mass_Index</th>\n",
       "      <th>Patient_Smoker</th>\n",
       "      <th>Patient_Rural_Urban</th>\n",
       "      <th>Patient_mental_condition</th>\n",
       "      <th>A</th>\n",
       "      <th>B</th>\n",
       "      <th>C</th>\n",
       "      <th>D</th>\n",
       "      <th>...</th>\n",
       "      <th>F</th>\n",
       "      <th>Z</th>\n",
       "      <th>Number_of_prev_cond</th>\n",
       "      <th>Survived_1_year</th>\n",
       "      <th>DX1</th>\n",
       "      <th>DX2</th>\n",
       "      <th>DX3</th>\n",
       "      <th>DX4</th>\n",
       "      <th>DX5</th>\n",
       "      <th>DX6</th>\n",
       "    </tr>\n",
       "  </thead>\n",
       "  <tbody>\n",
       "    <tr>\n",
       "      <th>0</th>\n",
       "      <td>47</td>\n",
       "      <td>60</td>\n",
       "      <td>21.655523</td>\n",
       "      <td>0</td>\n",
       "      <td>1</td>\n",
       "      <td>1</td>\n",
       "      <td>1.0</td>\n",
       "      <td>0.0</td>\n",
       "      <td>0.0</td>\n",
       "      <td>0.0</td>\n",
       "      <td>...</td>\n",
       "      <td>0.0</td>\n",
       "      <td>0.0</td>\n",
       "      <td>2.0</td>\n",
       "      <td>1</td>\n",
       "      <td>0</td>\n",
       "      <td>1</td>\n",
       "      <td>0</td>\n",
       "      <td>0</td>\n",
       "      <td>0</td>\n",
       "      <td>0</td>\n",
       "    </tr>\n",
       "    <tr>\n",
       "      <th>1</th>\n",
       "      <td>3</td>\n",
       "      <td>2</td>\n",
       "      <td>28.852743</td>\n",
       "      <td>0</td>\n",
       "      <td>0</td>\n",
       "      <td>1</td>\n",
       "      <td>1.0</td>\n",
       "      <td>0.0</td>\n",
       "      <td>1.0</td>\n",
       "      <td>0.0</td>\n",
       "      <td>...</td>\n",
       "      <td>0.0</td>\n",
       "      <td>0.0</td>\n",
       "      <td>3.0</td>\n",
       "      <td>0</td>\n",
       "      <td>0</td>\n",
       "      <td>0</td>\n",
       "      <td>0</td>\n",
       "      <td>0</td>\n",
       "      <td>0</td>\n",
       "      <td>1</td>\n",
       "    </tr>\n",
       "    <tr>\n",
       "      <th>2</th>\n",
       "      <td>7</td>\n",
       "      <td>20</td>\n",
       "      <td>26.179725</td>\n",
       "      <td>0</td>\n",
       "      <td>0</td>\n",
       "      <td>1</td>\n",
       "      <td>1.0</td>\n",
       "      <td>0.0</td>\n",
       "      <td>0.0</td>\n",
       "      <td>0.0</td>\n",
       "      <td>...</td>\n",
       "      <td>0.0</td>\n",
       "      <td>0.0</td>\n",
       "      <td>2.0</td>\n",
       "      <td>1</td>\n",
       "      <td>0</td>\n",
       "      <td>0</td>\n",
       "      <td>0</td>\n",
       "      <td>0</td>\n",
       "      <td>0</td>\n",
       "      <td>1</td>\n",
       "    </tr>\n",
       "    <tr>\n",
       "      <th>3</th>\n",
       "      <td>31</td>\n",
       "      <td>8</td>\n",
       "      <td>22.638945</td>\n",
       "      <td>0</td>\n",
       "      <td>0</td>\n",
       "      <td>1</td>\n",
       "      <td>1.0</td>\n",
       "      <td>0.0</td>\n",
       "      <td>0.0</td>\n",
       "      <td>0.0</td>\n",
       "      <td>...</td>\n",
       "      <td>0.0</td>\n",
       "      <td>0.0</td>\n",
       "      <td>2.0</td>\n",
       "      <td>0</td>\n",
       "      <td>0</td>\n",
       "      <td>0</td>\n",
       "      <td>0</td>\n",
       "      <td>0</td>\n",
       "      <td>0</td>\n",
       "      <td>1</td>\n",
       "    </tr>\n",
       "    <tr>\n",
       "      <th>4</th>\n",
       "      <td>43</td>\n",
       "      <td>53</td>\n",
       "      <td>21.326131</td>\n",
       "      <td>0</td>\n",
       "      <td>0</td>\n",
       "      <td>1</td>\n",
       "      <td>1.0</td>\n",
       "      <td>0.0</td>\n",
       "      <td>0.0</td>\n",
       "      <td>0.0</td>\n",
       "      <td>...</td>\n",
       "      <td>0.0</td>\n",
       "      <td>0.0</td>\n",
       "      <td>1.0</td>\n",
       "      <td>1</td>\n",
       "      <td>1</td>\n",
       "      <td>0</td>\n",
       "      <td>0</td>\n",
       "      <td>0</td>\n",
       "      <td>0</td>\n",
       "      <td>0</td>\n",
       "    </tr>\n",
       "  </tbody>\n",
       "</table>\n",
       "<p>5 rows × 21 columns</p>\n",
       "</div>"
      ],
      "text/plain": [
       "   Diagnosed_Condition  Patient_Age  Patient_Body_Mass_Index  Patient_Smoker  \\\n",
       "0                   47           60                21.655523               0   \n",
       "1                    3            2                28.852743               0   \n",
       "2                    7           20                26.179725               0   \n",
       "3                   31            8                22.638945               0   \n",
       "4                   43           53                21.326131               0   \n",
       "\n",
       "   Patient_Rural_Urban  Patient_mental_condition    A    B    C    D  ...  \\\n",
       "0                    1                         1  1.0  0.0  0.0  0.0  ...   \n",
       "1                    0                         1  1.0  0.0  1.0  0.0  ...   \n",
       "2                    0                         1  1.0  0.0  0.0  0.0  ...   \n",
       "3                    0                         1  1.0  0.0  0.0  0.0  ...   \n",
       "4                    0                         1  1.0  0.0  0.0  0.0  ...   \n",
       "\n",
       "     F    Z  Number_of_prev_cond  Survived_1_year  DX1  DX2  DX3  DX4  DX5  \\\n",
       "0  0.0  0.0                  2.0                1    0    1    0    0    0   \n",
       "1  0.0  0.0                  3.0                0    0    0    0    0    0   \n",
       "2  0.0  0.0                  2.0                1    0    0    0    0    0   \n",
       "3  0.0  0.0                  2.0                0    0    0    0    0    0   \n",
       "4  0.0  0.0                  1.0                1    1    0    0    0    0   \n",
       "\n",
       "   DX6  \n",
       "0    0  \n",
       "1    1  \n",
       "2    1  \n",
       "3    1  \n",
       "4    0  \n",
       "\n",
       "[5 rows x 21 columns]"
      ]
     },
     "execution_count": 48,
     "metadata": {},
     "output_type": "execute_result"
    }
   ],
   "source": [
    "pharma_data.head()"
   ]
  },
  {
   "cell_type": "code",
   "execution_count": 49,
   "metadata": {
    "colab": {
     "base_uri": "https://localhost:8080/",
     "height": 416
    },
    "colab_type": "code",
    "id": "RhQbl0CmRdYa",
    "outputId": "98cad52b-84c7-4170-8532-9cc1b9322dd9"
   },
   "outputs": [
    {
     "name": "stdout",
     "output_type": "stream",
     "text": [
      "Diagnosed_Condition           int64\n",
      "Patient_Age                   int64\n",
      "Patient_Body_Mass_Index     float64\n",
      "Patient_Smoker                int64\n",
      "Patient_Rural_Urban           int64\n",
      "Patient_mental_condition      int64\n",
      "A                           float64\n",
      "B                           float64\n",
      "C                           float64\n",
      "D                           float64\n",
      "E                           float64\n",
      "F                           float64\n",
      "Z                           float64\n",
      "Number_of_prev_cond         float64\n",
      "Survived_1_year               int64\n",
      "DX1                           int64\n",
      "DX2                           int64\n",
      "DX3                           int64\n",
      "DX4                           int64\n",
      "DX5                           int64\n",
      "DX6                           int64\n",
      "dtype: object\n",
      "(25079, 21)\n"
     ]
    }
   ],
   "source": [
    "print(pharma_data.dtypes)\n",
    "print(pharma_data.shape)"
   ]
  },
  {
   "cell_type": "code",
   "execution_count": 50,
   "metadata": {
    "colab": {
     "base_uri": "https://localhost:8080/",
     "height": 226
    },
    "colab_type": "code",
    "id": "lDZZ3f2gQ-qu",
    "outputId": "e01c7dc3-2f1c-4642-cdfb-32ebeaa6e7fa"
   },
   "outputs": [
    {
     "data": {
      "text/html": [
       "<div>\n",
       "<style scoped>\n",
       "    .dataframe tbody tr th:only-of-type {\n",
       "        vertical-align: middle;\n",
       "    }\n",
       "\n",
       "    .dataframe tbody tr th {\n",
       "        vertical-align: top;\n",
       "    }\n",
       "\n",
       "    .dataframe thead th {\n",
       "        text-align: right;\n",
       "    }\n",
       "</style>\n",
       "<table border=\"1\" class=\"dataframe\">\n",
       "  <thead>\n",
       "    <tr style=\"text-align: right;\">\n",
       "      <th></th>\n",
       "      <th>Diagnosed_Condition</th>\n",
       "      <th>Patient_Age</th>\n",
       "      <th>Patient_Body_Mass_Index</th>\n",
       "      <th>Patient_Smoker</th>\n",
       "      <th>Patient_Rural_Urban</th>\n",
       "      <th>Patient_mental_condition</th>\n",
       "      <th>A</th>\n",
       "      <th>B</th>\n",
       "      <th>C</th>\n",
       "      <th>D</th>\n",
       "      <th>E</th>\n",
       "      <th>F</th>\n",
       "      <th>Z</th>\n",
       "      <th>Number_of_prev_cond</th>\n",
       "      <th>DX1</th>\n",
       "      <th>DX2</th>\n",
       "      <th>DX3</th>\n",
       "      <th>DX4</th>\n",
       "      <th>DX5</th>\n",
       "      <th>DX6</th>\n",
       "    </tr>\n",
       "  </thead>\n",
       "  <tbody>\n",
       "    <tr>\n",
       "      <th>0</th>\n",
       "      <td>47</td>\n",
       "      <td>60</td>\n",
       "      <td>21.655523</td>\n",
       "      <td>0</td>\n",
       "      <td>1</td>\n",
       "      <td>1</td>\n",
       "      <td>1.0</td>\n",
       "      <td>0.0</td>\n",
       "      <td>0.0</td>\n",
       "      <td>0.0</td>\n",
       "      <td>1.0</td>\n",
       "      <td>0.0</td>\n",
       "      <td>0.0</td>\n",
       "      <td>2.0</td>\n",
       "      <td>0</td>\n",
       "      <td>1</td>\n",
       "      <td>0</td>\n",
       "      <td>0</td>\n",
       "      <td>0</td>\n",
       "      <td>0</td>\n",
       "    </tr>\n",
       "    <tr>\n",
       "      <th>1</th>\n",
       "      <td>3</td>\n",
       "      <td>2</td>\n",
       "      <td>28.852743</td>\n",
       "      <td>0</td>\n",
       "      <td>0</td>\n",
       "      <td>1</td>\n",
       "      <td>1.0</td>\n",
       "      <td>0.0</td>\n",
       "      <td>1.0</td>\n",
       "      <td>0.0</td>\n",
       "      <td>1.0</td>\n",
       "      <td>0.0</td>\n",
       "      <td>0.0</td>\n",
       "      <td>3.0</td>\n",
       "      <td>0</td>\n",
       "      <td>0</td>\n",
       "      <td>0</td>\n",
       "      <td>0</td>\n",
       "      <td>0</td>\n",
       "      <td>1</td>\n",
       "    </tr>\n",
       "    <tr>\n",
       "      <th>2</th>\n",
       "      <td>7</td>\n",
       "      <td>20</td>\n",
       "      <td>26.179725</td>\n",
       "      <td>0</td>\n",
       "      <td>0</td>\n",
       "      <td>1</td>\n",
       "      <td>1.0</td>\n",
       "      <td>0.0</td>\n",
       "      <td>0.0</td>\n",
       "      <td>0.0</td>\n",
       "      <td>1.0</td>\n",
       "      <td>0.0</td>\n",
       "      <td>0.0</td>\n",
       "      <td>2.0</td>\n",
       "      <td>0</td>\n",
       "      <td>0</td>\n",
       "      <td>0</td>\n",
       "      <td>0</td>\n",
       "      <td>0</td>\n",
       "      <td>1</td>\n",
       "    </tr>\n",
       "    <tr>\n",
       "      <th>3</th>\n",
       "      <td>31</td>\n",
       "      <td>8</td>\n",
       "      <td>22.638945</td>\n",
       "      <td>0</td>\n",
       "      <td>0</td>\n",
       "      <td>1</td>\n",
       "      <td>1.0</td>\n",
       "      <td>0.0</td>\n",
       "      <td>0.0</td>\n",
       "      <td>0.0</td>\n",
       "      <td>1.0</td>\n",
       "      <td>0.0</td>\n",
       "      <td>0.0</td>\n",
       "      <td>2.0</td>\n",
       "      <td>0</td>\n",
       "      <td>0</td>\n",
       "      <td>0</td>\n",
       "      <td>0</td>\n",
       "      <td>0</td>\n",
       "      <td>1</td>\n",
       "    </tr>\n",
       "    <tr>\n",
       "      <th>4</th>\n",
       "      <td>43</td>\n",
       "      <td>53</td>\n",
       "      <td>21.326131</td>\n",
       "      <td>0</td>\n",
       "      <td>0</td>\n",
       "      <td>1</td>\n",
       "      <td>1.0</td>\n",
       "      <td>0.0</td>\n",
       "      <td>0.0</td>\n",
       "      <td>0.0</td>\n",
       "      <td>0.0</td>\n",
       "      <td>0.0</td>\n",
       "      <td>0.0</td>\n",
       "      <td>1.0</td>\n",
       "      <td>1</td>\n",
       "      <td>0</td>\n",
       "      <td>0</td>\n",
       "      <td>0</td>\n",
       "      <td>0</td>\n",
       "      <td>0</td>\n",
       "    </tr>\n",
       "  </tbody>\n",
       "</table>\n",
       "</div>"
      ],
      "text/plain": [
       "   Diagnosed_Condition  Patient_Age  Patient_Body_Mass_Index  Patient_Smoker  \\\n",
       "0                   47           60                21.655523               0   \n",
       "1                    3            2                28.852743               0   \n",
       "2                    7           20                26.179725               0   \n",
       "3                   31            8                22.638945               0   \n",
       "4                   43           53                21.326131               0   \n",
       "\n",
       "   Patient_Rural_Urban  Patient_mental_condition    A    B    C    D    E  \\\n",
       "0                    1                         1  1.0  0.0  0.0  0.0  1.0   \n",
       "1                    0                         1  1.0  0.0  1.0  0.0  1.0   \n",
       "2                    0                         1  1.0  0.0  0.0  0.0  1.0   \n",
       "3                    0                         1  1.0  0.0  0.0  0.0  1.0   \n",
       "4                    0                         1  1.0  0.0  0.0  0.0  0.0   \n",
       "\n",
       "     F    Z  Number_of_prev_cond  DX1  DX2  DX3  DX4  DX5  DX6  \n",
       "0  0.0  0.0                  2.0    0    1    0    0    0    0  \n",
       "1  0.0  0.0                  3.0    0    0    0    0    0    1  \n",
       "2  0.0  0.0                  2.0    0    0    0    0    0    1  \n",
       "3  0.0  0.0                  2.0    0    0    0    0    0    1  \n",
       "4  0.0  0.0                  1.0    1    0    0    0    0    0  "
      ]
     },
     "execution_count": 50,
     "metadata": {},
     "output_type": "execute_result"
    }
   ],
   "source": [
    "#Split data into features(X) and target(y)\n",
    "X = pharma_data.drop('Survived_1_year',axis=1)\n",
    "y = pharma_data.Survived_1_year\n",
    "X.head()"
   ]
  },
  {
   "cell_type": "markdown",
   "metadata": {
    "colab_type": "text",
    "id": "6XZbdpHgSTlq"
   },
   "source": [
    "## Split the data into train and test set and train the model"
   ]
  },
  {
   "cell_type": "code",
   "execution_count": 51,
   "metadata": {
    "colab": {},
    "colab_type": "code",
    "id": "LhDQl8aHSi1l"
   },
   "outputs": [],
   "source": [
    "from sklearn.model_selection import train_test_split\n",
    "from sklearn.metrics import accuracy_score, precision_score, \\\n",
    "    confusion_matrix, f1_score, roc_auc_score, recall_score"
   ]
  },
  {
   "cell_type": "code",
   "execution_count": 52,
   "metadata": {
    "colab": {},
    "colab_type": "code",
    "id": "5oL4lzp2RtfR"
   },
   "outputs": [],
   "source": [
    "X_train, X_test, y_train, y_test = train_test_split(X, y, test_size=0.25, random_state=0)"
   ]
  },
  {
   "cell_type": "markdown",
   "metadata": {
    "colab_type": "text",
    "id": "8swygU-2UzMK"
   },
   "source": [
    "## Fit the data into various models and evaluate the performance of each"
   ]
  },
  {
   "cell_type": "code",
   "execution_count": 53,
   "metadata": {
    "colab": {
     "base_uri": "https://localhost:8080/",
     "height": 86
    },
    "colab_type": "code",
    "id": "wdIg_WSJSbo0",
    "outputId": "e6de03ed-9d92-4d35-d7cc-978a96ec568c"
   },
   "outputs": [
    {
     "name": "stdout",
     "output_type": "stream",
     "text": [
      "LogisticRegression model\n",
      "Accuracy Score: 0.730622009569378\n",
      "F1 Score: 0.8026177398621013\n",
      "Recall Score: 0.8497896560257362\n"
     ]
    }
   ],
   "source": [
    "from sklearn.linear_model import LogisticRegression\n",
    "lr = LogisticRegression(solver='liblinear')\n",
    "lr.fit(X_train, y_train)\n",
    "y_pred = lr.predict(X_test)\n",
    "print(\"LogisticRegression model\")\n",
    "print(\"Accuracy Score:\", accuracy_score(y_test, y_pred))\n",
    "print(\"F1 Score:\", f1_score(y_test, y_pred))\n",
    "print(\"Recall Score:\", recall_score(y_test, y_pred))"
   ]
  },
  {
   "cell_type": "code",
   "execution_count": 54,
   "metadata": {
    "colab": {
     "base_uri": "https://localhost:8080/",
     "height": 86
    },
    "colab_type": "code",
    "id": "TETbZzneT5sy",
    "outputId": "39a6306a-f282-45c1-f42c-9608fcbdc457"
   },
   "outputs": [
    {
     "name": "stdout",
     "output_type": "stream",
     "text": [
      "DecisionTreeClassifier model\n",
      "Accuracy Score: 0.7945773524720893\n",
      "F1 Score: 0.8398806563898558\n",
      "Recall Score: 0.835931700074239\n"
     ]
    }
   ],
   "source": [
    "from sklearn.tree import DecisionTreeClassifier\n",
    "dtc = DecisionTreeClassifier(random_state = 7)\n",
    "dtc.fit(X_train, y_train)\n",
    "y_pred_dtc = dtc.predict(X_test)\n",
    "print(\"DecisionTreeClassifier model\")\n",
    "print(\"Accuracy Score:\", accuracy_score(y_test, y_pred_dtc))\n",
    "print(\"F1 Score:\", f1_score(y_test, y_pred_dtc))\n",
    "print(\"Recall Score:\", recall_score(y_test, y_pred_dtc))"
   ]
  },
  {
   "cell_type": "code",
   "execution_count": 55,
   "metadata": {
    "colab": {
     "base_uri": "https://localhost:8080/",
     "height": 86
    },
    "colab_type": "code",
    "id": "h6_qjPbtVTd7",
    "outputId": "7eefd79d-9427-4082-8e72-9b668a42fe5c"
   },
   "outputs": [
    {
     "name": "stdout",
     "output_type": "stream",
     "text": [
      "RandomForestClassifier model\n",
      "Accuracy Score: 0.8365231259968102\n",
      "F1 Score: 0.8751978570558869\n",
      "Recall Score: 0.8893838158871566\n"
     ]
    }
   ],
   "source": [
    "from sklearn.ensemble import RandomForestClassifier\n",
    "randf = RandomForestClassifier(n_estimators = 300, random_state = 0)\n",
    "randf.fit(X_train, y_train)\n",
    "y_pred_randf = randf.predict(X_test)\n",
    "print(\"RandomForestClassifier model\")\n",
    "print(\"Accuracy Score:\", accuracy_score(y_test, y_pred_randf))\n",
    "print(\"F1 Score:\", f1_score(y_test, y_pred_randf))\n",
    "print(\"Recall Score:\", recall_score(y_test, y_pred_randf))"
   ]
  },
  {
   "cell_type": "code",
   "execution_count": 56,
   "metadata": {
    "colab": {
     "base_uri": "https://localhost:8080/",
     "height": 86
    },
    "colab_type": "code",
    "id": "Hm4eNlilT2Ie",
    "outputId": "06c5e8d5-3c47-4cdd-a1ed-5fd6fbf0a1d2"
   },
   "outputs": [
    {
     "name": "stdout",
     "output_type": "stream",
     "text": [
      "XGBoostClassifier model\n",
      "Accuracy Score: 0.8350877192982457\n",
      "F1 Score: 0.8726914553065748\n",
      "Recall Score: 0.8770106409304628\n"
     ]
    }
   ],
   "source": [
    "from xgboost import XGBClassifier\n",
    "xgb = XGBClassifier(n_estimators=300)\n",
    "xgb.fit(X_train, y_train)\n",
    "y_pred_xgb = xgb.predict(X_test)\n",
    "print(\"XGBoostClassifier model\")\n",
    "print(\"Accuracy Score:\", accuracy_score(y_test, y_pred_xgb))\n",
    "print(\"F1 Score:\", f1_score(y_test, y_pred_xgb))\n",
    "print(\"Recall Score:\", recall_score(y_test, y_pred_xgb))"
   ]
  },
  {
   "cell_type": "markdown",
   "metadata": {
    "colab_type": "text",
    "id": "mQ5-6kZ6XHfC"
   },
   "source": [
    "#Check model performance using new test data"
   ]
  },
  {
   "cell_type": "code",
   "execution_count": 57,
   "metadata": {
    "colab": {
     "base_uri": "https://localhost:8080/",
     "height": 226
    },
    "colab_type": "code",
    "id": "WyfO_Ew8XL9j",
    "outputId": "0ba440df-88af-4468-d31a-4696de3358da"
   },
   "outputs": [
    {
     "data": {
      "text/html": [
       "<div>\n",
       "<style scoped>\n",
       "    .dataframe tbody tr th:only-of-type {\n",
       "        vertical-align: middle;\n",
       "    }\n",
       "\n",
       "    .dataframe tbody tr th {\n",
       "        vertical-align: top;\n",
       "    }\n",
       "\n",
       "    .dataframe thead th {\n",
       "        text-align: right;\n",
       "    }\n",
       "</style>\n",
       "<table border=\"1\" class=\"dataframe\">\n",
       "  <thead>\n",
       "    <tr style=\"text-align: right;\">\n",
       "      <th></th>\n",
       "      <th>ID_Patient_Care_Situation</th>\n",
       "      <th>Diagnosed_Condition</th>\n",
       "      <th>Patient_ID</th>\n",
       "      <th>Treated_with_drugs</th>\n",
       "      <th>Patient_Age</th>\n",
       "      <th>Patient_Body_Mass_Index</th>\n",
       "      <th>Patient_Smoker</th>\n",
       "      <th>Patient_Rural_Urban</th>\n",
       "      <th>Patient_mental_condition</th>\n",
       "      <th>A</th>\n",
       "      <th>B</th>\n",
       "      <th>C</th>\n",
       "      <th>D</th>\n",
       "      <th>E</th>\n",
       "      <th>F</th>\n",
       "      <th>Z</th>\n",
       "      <th>Number_of_prev_cond</th>\n",
       "    </tr>\n",
       "  </thead>\n",
       "  <tbody>\n",
       "    <tr>\n",
       "      <th>0</th>\n",
       "      <td>24206</td>\n",
       "      <td>35</td>\n",
       "      <td>4640</td>\n",
       "      <td>DX5</td>\n",
       "      <td>65</td>\n",
       "      <td>20.710365</td>\n",
       "      <td>NO</td>\n",
       "      <td>RURAL</td>\n",
       "      <td>Stable</td>\n",
       "      <td>1.0</td>\n",
       "      <td>0.0</td>\n",
       "      <td>0.0</td>\n",
       "      <td>0.0</td>\n",
       "      <td>1.0</td>\n",
       "      <td>0.0</td>\n",
       "      <td>0.0</td>\n",
       "      <td>2.0</td>\n",
       "    </tr>\n",
       "    <tr>\n",
       "      <th>1</th>\n",
       "      <td>32827</td>\n",
       "      <td>30</td>\n",
       "      <td>3214</td>\n",
       "      <td>dx1</td>\n",
       "      <td>2</td>\n",
       "      <td>24.250219</td>\n",
       "      <td>NO</td>\n",
       "      <td>URBAN</td>\n",
       "      <td>Stable</td>\n",
       "      <td>1.0</td>\n",
       "      <td>0.0</td>\n",
       "      <td>0.0</td>\n",
       "      <td>0.0</td>\n",
       "      <td>1.0</td>\n",
       "      <td>0.0</td>\n",
       "      <td>0.0</td>\n",
       "      <td>2.0</td>\n",
       "    </tr>\n",
       "    <tr>\n",
       "      <th>2</th>\n",
       "      <td>3694</td>\n",
       "      <td>46</td>\n",
       "      <td>3564</td>\n",
       "      <td>dx6</td>\n",
       "      <td>1</td>\n",
       "      <td>27.139276</td>\n",
       "      <td>NO</td>\n",
       "      <td>URBAN</td>\n",
       "      <td>Stable</td>\n",
       "      <td>1.0</td>\n",
       "      <td>0.0</td>\n",
       "      <td>0.0</td>\n",
       "      <td>0.0</td>\n",
       "      <td>0.0</td>\n",
       "      <td>0.0</td>\n",
       "      <td>0.0</td>\n",
       "      <td>1.0</td>\n",
       "    </tr>\n",
       "    <tr>\n",
       "      <th>3</th>\n",
       "      <td>7164</td>\n",
       "      <td>44</td>\n",
       "      <td>5176</td>\n",
       "      <td>DX1</td>\n",
       "      <td>29</td>\n",
       "      <td>29.191759</td>\n",
       "      <td>NO</td>\n",
       "      <td>RURAL</td>\n",
       "      <td>Stable</td>\n",
       "      <td>0.0</td>\n",
       "      <td>0.0</td>\n",
       "      <td>1.0</td>\n",
       "      <td>0.0</td>\n",
       "      <td>1.0</td>\n",
       "      <td>0.0</td>\n",
       "      <td>0.0</td>\n",
       "      <td>2.0</td>\n",
       "    </tr>\n",
       "    <tr>\n",
       "      <th>4</th>\n",
       "      <td>1259</td>\n",
       "      <td>30</td>\n",
       "      <td>1101</td>\n",
       "      <td>DX5</td>\n",
       "      <td>51</td>\n",
       "      <td>20.844146</td>\n",
       "      <td>NO</td>\n",
       "      <td>URBAN</td>\n",
       "      <td>Stable</td>\n",
       "      <td>0.0</td>\n",
       "      <td>0.0</td>\n",
       "      <td>0.0</td>\n",
       "      <td>0.0</td>\n",
       "      <td>1.0</td>\n",
       "      <td>0.0</td>\n",
       "      <td>0.0</td>\n",
       "      <td>1.0</td>\n",
       "    </tr>\n",
       "  </tbody>\n",
       "</table>\n",
       "</div>"
      ],
      "text/plain": [
       "   ID_Patient_Care_Situation  Diagnosed_Condition  Patient_ID  \\\n",
       "0                      24206                   35        4640   \n",
       "1                      32827                   30        3214   \n",
       "2                       3694                   46        3564   \n",
       "3                       7164                   44        5176   \n",
       "4                       1259                   30        1101   \n",
       "\n",
       "  Treated_with_drugs  Patient_Age  Patient_Body_Mass_Index Patient_Smoker  \\\n",
       "0               DX5            65                20.710365             NO   \n",
       "1               dx1             2                24.250219            NO    \n",
       "2               dx6             1                27.139276             NO   \n",
       "3               DX1            29                29.191759            NO    \n",
       "4               DX5            51                20.844146             NO   \n",
       "\n",
       "  Patient_Rural_Urban Patient_mental_condition    A    B    C    D    E    F  \\\n",
       "0               RURAL                   Stable  1.0  0.0  0.0  0.0  1.0  0.0   \n",
       "1               URBAN                   Stable  1.0  0.0  0.0  0.0  1.0  0.0   \n",
       "2               URBAN                   Stable  1.0  0.0  0.0  0.0  0.0  0.0   \n",
       "3               RURAL                   Stable  0.0  0.0  1.0  0.0  1.0  0.0   \n",
       "4               URBAN                   Stable  0.0  0.0  0.0  0.0  1.0  0.0   \n",
       "\n",
       "     Z  Number_of_prev_cond  \n",
       "0  0.0                  2.0  \n",
       "1  0.0                  2.0  \n",
       "2  0.0                  1.0  \n",
       "3  0.0                  2.0  \n",
       "4  0.0                  1.0  "
      ]
     },
     "execution_count": 57,
     "metadata": {},
     "output_type": "execute_result"
    }
   ],
   "source": [
    "test_new = pd.read_csv('https://raw.githubusercontent.com/dphi-official/Datasets/master/pharma_data/Testing_set_advc.csv')\n",
    "test_new.head()"
   ]
  },
  {
   "cell_type": "code",
   "execution_count": 58,
   "metadata": {
    "colab": {
     "base_uri": "https://localhost:8080/",
     "height": 34
    },
    "colab_type": "code",
    "id": "cSAlL-Y_XXaO",
    "outputId": "f14443e4-24a4-4f9e-8ac8-50df10dced99"
   },
   "outputs": [
    {
     "data": {
      "text/plain": [
       "(9330, 17)"
      ]
     },
     "execution_count": 58,
     "metadata": {},
     "output_type": "execute_result"
    }
   ],
   "source": [
    "test_new.shape"
   ]
  },
  {
   "cell_type": "code",
   "execution_count": 59,
   "metadata": {
    "colab": {
     "base_uri": "https://localhost:8080/",
     "height": 34
    },
    "colab_type": "code",
    "id": "EDEqgzJ0YYIg",
    "outputId": "67cf05b3-e955-43ca-c6fe-c06bfc2b8fe6"
   },
   "outputs": [
    {
     "data": {
      "text/plain": [
       "array(['NO', 'NO ', 'YES ', 'YES', 'YESS', 'YESS '], dtype=object)"
      ]
     },
     "execution_count": 59,
     "metadata": {},
     "output_type": "execute_result"
    }
   ],
   "source": [
    "test_new.Patient_Smoker.unique()"
   ]
  },
  {
   "cell_type": "code",
   "execution_count": 60,
   "metadata": {
    "colab": {},
    "colab_type": "code",
    "id": "7j7FI_6OZGwY"
   },
   "outputs": [],
   "source": [
    "patient_smoker_replace = {\"NO \":\"NO\", \"YES \":\"YES\", \"YESS \":\"YES\", \"YESS\":\"YES\", \"Cannot say \":\"Cannot say\", \"CANNOT SAY \":\"Cannot say\", \"CANNOT SAY\":\"Cannot say\"}\n",
    "test_new = test_new.replace({\"Patient_Smoker\": patient_smoker_replace})\n",
    "test_new[\"Patient_Smoker\"].replace({\"NO\":0, \"YES\":1, \"Cannot say\":2}, inplace=True)"
   ]
  },
  {
   "cell_type": "code",
   "execution_count": 61,
   "metadata": {
    "colab": {},
    "colab_type": "code",
    "id": "JBRKM2w3ZT8-"
   },
   "outputs": [],
   "source": [
    "test_new[\"Patient_Rural_Urban\"].replace({\"RURAL\":0, \"URBAN\":1}, inplace=True)"
   ]
  },
  {
   "cell_type": "code",
   "execution_count": 62,
   "metadata": {
    "colab": {},
    "colab_type": "code",
    "id": "2nH2q7R-ZnMu"
   },
   "outputs": [],
   "source": [
    "test_new[\"Patient_mental_condition\"].replace({\"Stable\": 1}, inplace=True)"
   ]
  },
  {
   "cell_type": "code",
   "execution_count": 63,
   "metadata": {
    "colab": {},
    "colab_type": "code",
    "id": "43GNsPDxOhvb"
   },
   "outputs": [],
   "source": [
    "test_new['Treated_with_drugs'] = test_new['Treated_with_drugs'].str.upper()  #change the values in this column to upppercase\n",
    "test_drug_dummies = test_new['Treated_with_drugs'].str.get_dummies(sep=' ')   #create a dummy value\n",
    "test_new = pd.concat([test_new, test_drug_dummies], axis=1)               #concatenate the dummy dataframe with the original dataframe"
   ]
  },
  {
   "cell_type": "code",
   "execution_count": 64,
   "metadata": {
    "colab": {},
    "colab_type": "code",
    "id": "BQiJCHz9hH1O"
   },
   "outputs": [],
   "source": [
    "test_new.drop(['Treated_with_drugs', 'ID_Patient_Care_Situation', 'Patient_ID'], axis=1, inplace=True)"
   ]
  },
  {
   "cell_type": "code",
   "execution_count": 65,
   "metadata": {
    "colab": {
     "base_uri": "https://localhost:8080/",
     "height": 34
    },
    "colab_type": "code",
    "id": "LkKSQAkDTIok",
    "outputId": "289cbb07-ae9d-42ca-9636-2dd8aa579e1a"
   },
   "outputs": [
    {
     "data": {
      "text/plain": [
       "(9330, 20)"
      ]
     },
     "execution_count": 65,
     "metadata": {},
     "output_type": "execute_result"
    }
   ],
   "source": [
    "test_new.shape"
   ]
  },
  {
   "cell_type": "code",
   "execution_count": 66,
   "metadata": {},
   "outputs": [
    {
     "data": {
      "text/html": [
       "<div>\n",
       "<style scoped>\n",
       "    .dataframe tbody tr th:only-of-type {\n",
       "        vertical-align: middle;\n",
       "    }\n",
       "\n",
       "    .dataframe tbody tr th {\n",
       "        vertical-align: top;\n",
       "    }\n",
       "\n",
       "    .dataframe thead th {\n",
       "        text-align: right;\n",
       "    }\n",
       "</style>\n",
       "<table border=\"1\" class=\"dataframe\">\n",
       "  <thead>\n",
       "    <tr style=\"text-align: right;\">\n",
       "      <th></th>\n",
       "      <th>Diagnosed_Condition</th>\n",
       "      <th>Patient_Age</th>\n",
       "      <th>Patient_Body_Mass_Index</th>\n",
       "      <th>Patient_Smoker</th>\n",
       "      <th>Patient_Rural_Urban</th>\n",
       "      <th>Patient_mental_condition</th>\n",
       "      <th>A</th>\n",
       "      <th>B</th>\n",
       "      <th>C</th>\n",
       "      <th>D</th>\n",
       "      <th>E</th>\n",
       "      <th>F</th>\n",
       "      <th>Z</th>\n",
       "      <th>Number_of_prev_cond</th>\n",
       "      <th>DX1</th>\n",
       "      <th>DX2</th>\n",
       "      <th>DX3</th>\n",
       "      <th>DX4</th>\n",
       "      <th>DX5</th>\n",
       "      <th>DX6</th>\n",
       "    </tr>\n",
       "  </thead>\n",
       "  <tbody>\n",
       "    <tr>\n",
       "      <th>0</th>\n",
       "      <td>35</td>\n",
       "      <td>65</td>\n",
       "      <td>20.710365</td>\n",
       "      <td>0</td>\n",
       "      <td>0</td>\n",
       "      <td>1</td>\n",
       "      <td>1.0</td>\n",
       "      <td>0.0</td>\n",
       "      <td>0.0</td>\n",
       "      <td>0.0</td>\n",
       "      <td>1.0</td>\n",
       "      <td>0.0</td>\n",
       "      <td>0.0</td>\n",
       "      <td>2.0</td>\n",
       "      <td>0</td>\n",
       "      <td>0</td>\n",
       "      <td>0</td>\n",
       "      <td>0</td>\n",
       "      <td>1</td>\n",
       "      <td>0</td>\n",
       "    </tr>\n",
       "    <tr>\n",
       "      <th>1</th>\n",
       "      <td>30</td>\n",
       "      <td>2</td>\n",
       "      <td>24.250219</td>\n",
       "      <td>0</td>\n",
       "      <td>1</td>\n",
       "      <td>1</td>\n",
       "      <td>1.0</td>\n",
       "      <td>0.0</td>\n",
       "      <td>0.0</td>\n",
       "      <td>0.0</td>\n",
       "      <td>1.0</td>\n",
       "      <td>0.0</td>\n",
       "      <td>0.0</td>\n",
       "      <td>2.0</td>\n",
       "      <td>1</td>\n",
       "      <td>0</td>\n",
       "      <td>0</td>\n",
       "      <td>0</td>\n",
       "      <td>0</td>\n",
       "      <td>0</td>\n",
       "    </tr>\n",
       "    <tr>\n",
       "      <th>2</th>\n",
       "      <td>46</td>\n",
       "      <td>1</td>\n",
       "      <td>27.139276</td>\n",
       "      <td>0</td>\n",
       "      <td>1</td>\n",
       "      <td>1</td>\n",
       "      <td>1.0</td>\n",
       "      <td>0.0</td>\n",
       "      <td>0.0</td>\n",
       "      <td>0.0</td>\n",
       "      <td>0.0</td>\n",
       "      <td>0.0</td>\n",
       "      <td>0.0</td>\n",
       "      <td>1.0</td>\n",
       "      <td>0</td>\n",
       "      <td>0</td>\n",
       "      <td>0</td>\n",
       "      <td>0</td>\n",
       "      <td>0</td>\n",
       "      <td>1</td>\n",
       "    </tr>\n",
       "    <tr>\n",
       "      <th>3</th>\n",
       "      <td>44</td>\n",
       "      <td>29</td>\n",
       "      <td>29.191759</td>\n",
       "      <td>0</td>\n",
       "      <td>0</td>\n",
       "      <td>1</td>\n",
       "      <td>0.0</td>\n",
       "      <td>0.0</td>\n",
       "      <td>1.0</td>\n",
       "      <td>0.0</td>\n",
       "      <td>1.0</td>\n",
       "      <td>0.0</td>\n",
       "      <td>0.0</td>\n",
       "      <td>2.0</td>\n",
       "      <td>1</td>\n",
       "      <td>0</td>\n",
       "      <td>0</td>\n",
       "      <td>0</td>\n",
       "      <td>0</td>\n",
       "      <td>0</td>\n",
       "    </tr>\n",
       "    <tr>\n",
       "      <th>4</th>\n",
       "      <td>30</td>\n",
       "      <td>51</td>\n",
       "      <td>20.844146</td>\n",
       "      <td>0</td>\n",
       "      <td>1</td>\n",
       "      <td>1</td>\n",
       "      <td>0.0</td>\n",
       "      <td>0.0</td>\n",
       "      <td>0.0</td>\n",
       "      <td>0.0</td>\n",
       "      <td>1.0</td>\n",
       "      <td>0.0</td>\n",
       "      <td>0.0</td>\n",
       "      <td>1.0</td>\n",
       "      <td>0</td>\n",
       "      <td>0</td>\n",
       "      <td>0</td>\n",
       "      <td>0</td>\n",
       "      <td>1</td>\n",
       "      <td>0</td>\n",
       "    </tr>\n",
       "  </tbody>\n",
       "</table>\n",
       "</div>"
      ],
      "text/plain": [
       "   Diagnosed_Condition  Patient_Age  Patient_Body_Mass_Index Patient_Smoker  \\\n",
       "0                   35           65                20.710365              0   \n",
       "1                   30            2                24.250219              0   \n",
       "2                   46            1                27.139276              0   \n",
       "3                   44           29                29.191759              0   \n",
       "4                   30           51                20.844146              0   \n",
       "\n",
       "   Patient_Rural_Urban  Patient_mental_condition    A    B    C    D    E  \\\n",
       "0                    0                         1  1.0  0.0  0.0  0.0  1.0   \n",
       "1                    1                         1  1.0  0.0  0.0  0.0  1.0   \n",
       "2                    1                         1  1.0  0.0  0.0  0.0  0.0   \n",
       "3                    0                         1  0.0  0.0  1.0  0.0  1.0   \n",
       "4                    1                         1  0.0  0.0  0.0  0.0  1.0   \n",
       "\n",
       "     F    Z  Number_of_prev_cond  DX1  DX2  DX3  DX4  DX5  DX6  \n",
       "0  0.0  0.0                  2.0    0    0    0    0    1    0  \n",
       "1  0.0  0.0                  2.0    1    0    0    0    0    0  \n",
       "2  0.0  0.0                  1.0    0    0    0    0    0    1  \n",
       "3  0.0  0.0                  2.0    1    0    0    0    0    0  \n",
       "4  0.0  0.0                  1.0    0    0    0    0    1    0  "
      ]
     },
     "execution_count": 66,
     "metadata": {},
     "output_type": "execute_result"
    }
   ],
   "source": [
    "test_new.head()"
   ]
  },
  {
   "cell_type": "code",
   "execution_count": 67,
   "metadata": {},
   "outputs": [
    {
     "data": {
      "text/plain": [
       "Diagnosed_Condition           int64\n",
       "Patient_Age                   int64\n",
       "Patient_Body_Mass_Index     float64\n",
       "Patient_Smoker               object\n",
       "Patient_Rural_Urban           int64\n",
       "Patient_mental_condition      int64\n",
       "A                           float64\n",
       "B                           float64\n",
       "C                           float64\n",
       "D                           float64\n",
       "E                           float64\n",
       "F                           float64\n",
       "Z                           float64\n",
       "Number_of_prev_cond         float64\n",
       "DX1                           int64\n",
       "DX2                           int64\n",
       "DX3                           int64\n",
       "DX4                           int64\n",
       "DX5                           int64\n",
       "DX6                           int64\n",
       "dtype: object"
      ]
     },
     "execution_count": 67,
     "metadata": {},
     "output_type": "execute_result"
    }
   ],
   "source": [
    "test_new.dtypes"
   ]
  },
  {
   "cell_type": "code",
   "execution_count": 68,
   "metadata": {},
   "outputs": [],
   "source": [
    "test_new.Patient_Smoker = pd.to_numeric(test_new.Patient_Smoker)"
   ]
  },
  {
   "cell_type": "markdown",
   "metadata": {
    "colab_type": "text",
    "id": "gOpPu0abWaUb"
   },
   "source": [
    "## Predict patients survival using the created XGBoostClassifier model"
   ]
  },
  {
   "cell_type": "code",
   "execution_count": 69,
   "metadata": {
    "colab": {
     "base_uri": "https://localhost:8080/",
     "height": 34
    },
    "colab_type": "code",
    "id": "kiV365dQWhLn",
    "outputId": "eae268ab-5682-4060-f2ff-b036117d944d"
   },
   "outputs": [
    {
     "data": {
      "text/plain": [
       "array([1, 0, 0, ..., 0, 0, 1])"
      ]
     },
     "execution_count": 69,
     "metadata": {},
     "output_type": "execute_result"
    }
   ],
   "source": [
    "Survived_1_year_xgb = xgb.predict(test_new)\n",
    "Survived_1_year_xgb"
   ]
  },
  {
   "cell_type": "code",
   "execution_count": 70,
   "metadata": {
    "colab": {
     "base_uri": "https://localhost:8080/",
     "height": 54
    },
    "colab_type": "code",
    "id": "jbJZF_ChWnqW",
    "outputId": "c4071876-e9e9-4019-b209-f2f248a29f6a"
   },
   "outputs": [],
   "source": [
    "Survived_1_year_xgb_array = []\n",
    "for i in Survived_1_year_xgb:\n",
    "  Survived_1_year_xgb_array.append(i)\n",
    "# print(Survived_1_year_xgb_array)"
   ]
  },
  {
   "cell_type": "code",
   "execution_count": 71,
   "metadata": {
    "colab": {},
    "colab_type": "code",
    "id": "BgBNA7i5aBbK"
   },
   "outputs": [],
   "source": [
    "result = pd.DataFrame(Survived_1_year_xgb) #predictions are nothing but the final predictions of your model on input features of your new unseen test data\n",
    "result.index = test_new.index # its important for comparison. Here \"test_new\" is your new test dataset\n",
    "result.columns = [\"prediction\"]\n",
    "\n",
    "# To output the csv file locally\n",
    "result.to_csv('XGB_model_results.csv')         "
   ]
  },
  {
   "cell_type": "markdown",
   "metadata": {
    "colab_type": "text",
    "id": "r_7kJecNdPdX"
   },
   "source": [
    "##Predict patients survival using the created random forest classifier model\n"
   ]
  },
  {
   "cell_type": "code",
   "execution_count": 72,
   "metadata": {
    "colab": {
     "base_uri": "https://localhost:8080/",
     "height": 34
    },
    "colab_type": "code",
    "id": "1bC_1tEQXbqg",
    "outputId": "f2a85f0d-d5a3-46e8-80b6-200dc04745d0"
   },
   "outputs": [
    {
     "data": {
      "text/plain": [
       "array([1, 1, 0, ..., 0, 0, 1])"
      ]
     },
     "execution_count": 72,
     "metadata": {},
     "output_type": "execute_result"
    }
   ],
   "source": [
    "Survived_1_year_randf = randf.predict(test_new)\n",
    "Survived_1_year_randf"
   ]
  },
  {
   "cell_type": "code",
   "execution_count": 73,
   "metadata": {
    "colab": {
     "base_uri": "https://localhost:8080/",
     "height": 54
    },
    "colab_type": "code",
    "id": "nsnmuHqPZs4U",
    "outputId": "f47eaa5e-ad30-44c9-f8ae-247ec252132f"
   },
   "outputs": [],
   "source": [
    "Survived_1_year_randf_array = []\n",
    "for i in Survived_1_year_randf:\n",
    "  Survived_1_year_randf_array.append(i)\n",
    "# print(Survived_1_year_randf_array)"
   ]
  },
  {
   "cell_type": "markdown",
   "metadata": {
    "colab_type": "text",
    "id": "-rRijakKdUnH"
   },
   "source": [
    "##Predict patients survival using the created decision tree classifier model"
   ]
  },
  {
   "cell_type": "code",
   "execution_count": 74,
   "metadata": {
    "colab": {
     "base_uri": "https://localhost:8080/",
     "height": 34
    },
    "colab_type": "code",
    "id": "VitB0UQRdjmn",
    "outputId": "dd30a64b-3be3-4fa8-81b7-f6b96c7c7d14"
   },
   "outputs": [
    {
     "data": {
      "text/plain": [
       "array([1, 1, 0, ..., 1, 0, 1])"
      ]
     },
     "execution_count": 74,
     "metadata": {},
     "output_type": "execute_result"
    }
   ],
   "source": [
    "Survived_1_year_dtc = dtc.predict(test_new)\n",
    "Survived_1_year_dtc"
   ]
  },
  {
   "cell_type": "code",
   "execution_count": 75,
   "metadata": {
    "colab": {
     "base_uri": "https://localhost:8080/",
     "height": 54
    },
    "colab_type": "code",
    "id": "rgXoN21FeJew",
    "outputId": "6964bf8f-5415-4011-f7f1-8e8ed6d18516"
   },
   "outputs": [],
   "source": [
    "Survived_1_year_dtc_array = []\n",
    "for i in Survived_1_year_dtc:\n",
    "  Survived_1_year_dtc_array.append(i)\n",
    "# print(Survived_1_year_dtc_array)"
   ]
  },
  {
   "cell_type": "markdown",
   "metadata": {
    "colab_type": "text",
    "id": "3eWIxrigerKH"
   },
   "source": [
    "##Predict patients survival using the created logistic regression model"
   ]
  },
  {
   "cell_type": "code",
   "execution_count": 76,
   "metadata": {
    "colab": {
     "base_uri": "https://localhost:8080/",
     "height": 34
    },
    "colab_type": "code",
    "id": "INKX1DukeYpD",
    "outputId": "e21477ee-96fa-460f-b247-f6c25a24165e"
   },
   "outputs": [
    {
     "data": {
      "text/plain": [
       "array([1, 1, 0, ..., 1, 1, 1])"
      ]
     },
     "execution_count": 76,
     "metadata": {},
     "output_type": "execute_result"
    }
   ],
   "source": [
    "Survived_1_year_lr = lr.predict(test_new)\n",
    "Survived_1_year_lr"
   ]
  },
  {
   "cell_type": "code",
   "execution_count": 77,
   "metadata": {
    "colab": {
     "base_uri": "https://localhost:8080/",
     "height": 54
    },
    "colab_type": "code",
    "id": "E_TmAJLze4EU",
    "outputId": "c4228c32-7073-49c4-b2f7-34bebcc39991"
   },
   "outputs": [],
   "source": [
    "Survived_1_year_lr_array = []\n",
    "for i in Survived_1_year_lr:\n",
    "  Survived_1_year_lr_array.append(i)\n",
    "# print(Survived_1_year_lr_array)"
   ]
  },
  {
   "cell_type": "markdown",
   "metadata": {
    "colab_type": "text",
    "id": "deAAHTqWfH-f"
   },
   "source": [
    "## XGBoost classifier model has given the best results, this will be our final model for test_new predictions."
   ]
  },
  {
   "cell_type": "markdown",
   "metadata": {
    "colab_type": "text",
    "id": "gg7k9DHgxQnP"
   },
   "source": [
    "\n"
   ]
  }
 ],
 "metadata": {
  "colab": {
   "collapsed_sections": [],
   "name": "Final DPHI Assignment.ipynb",
   "provenance": []
  },
  "kernelspec": {
   "display_name": "Python 3",
   "language": "python",
   "name": "python3"
  },
  "language_info": {
   "codemirror_mode": {
    "name": "ipython",
    "version": 3
   },
   "file_extension": ".py",
   "mimetype": "text/x-python",
   "name": "python",
   "nbconvert_exporter": "python",
   "pygments_lexer": "ipython3",
   "version": "3.7.3"
  }
 },
 "nbformat": 4,
 "nbformat_minor": 4
}
